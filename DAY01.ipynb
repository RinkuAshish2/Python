{
 "cells": [
  {
   "cell_type": "code",
   "execution_count": 1,
   "id": "e85931df",
   "metadata": {},
   "outputs": [
    {
     "name": "stdout",
     "output_type": "stream",
     "text": [
      "hiii \n"
     ]
    }
   ],
   "source": [
    "print(\"hiii \")"
   ]
  },
  {
   "cell_type": "code",
   "execution_count": 2,
   "id": "bfa8f20e",
   "metadata": {},
   "outputs": [
    {
     "name": "stdout",
     "output_type": "stream",
     "text": [
      "Om\n"
     ]
    }
   ],
   "source": [
    "print(\"Om\")"
   ]
  },
  {
   "cell_type": "markdown",
   "id": "9e8f92d4",
   "metadata": {},
   "source": [
    "# Addition +\n",
    "# Substraction -\n",
    "# Multiplication *\n",
    "# Division /\n",
    "# Modulus %\n",
    "# Power **"
   ]
  },
  {
   "cell_type": "code",
   "execution_count": 12,
   "id": "2c622ab4",
   "metadata": {},
   "outputs": [
    {
     "name": "stdout",
     "output_type": "stream",
     "text": [
      "25\n",
      "-11\n",
      "0.3888888888888889\n",
      "126\n",
      "7\n",
      "1628413597910449\n"
     ]
    }
   ],
   "source": [
    "a=7\n",
    "b=18\n",
    "print(a+b)\n",
    "print(a-b)\n",
    "print(a/b)\n",
    "print(a*b)\n",
    "print(a%b)\n",
    "print(a**b)"
   ]
  },
  {
   "cell_type": "code",
   "execution_count": 13,
   "id": "9db6c89a",
   "metadata": {},
   "outputs": [],
   "source": [
    "# Comparision operators as out will be in the form of boolean values as true or false\n",
    "# < , > <= , >= , == , !=\n",
    "a=7\n",
    "b=5"
   ]
  },
  {
   "cell_type": "code",
   "execution_count": 14,
   "id": "af9dfdd2",
   "metadata": {},
   "outputs": [
    {
     "data": {
      "text/plain": [
       "False"
      ]
     },
     "execution_count": 14,
     "metadata": {},
     "output_type": "execute_result"
    }
   ],
   "source": [
    "a<b"
   ]
  },
  {
   "cell_type": "code",
   "execution_count": 21,
   "id": "3824a01b",
   "metadata": {},
   "outputs": [],
   "source": [
    "# logical operators are\n",
    "# and , or , not\n",
    "a=10\n",
    "b=20"
   ]
  },
  {
   "cell_type": "code",
   "execution_count": 22,
   "id": "e7d7664e",
   "metadata": {},
   "outputs": [
    {
     "data": {
      "text/plain": [
       "False"
      ]
     },
     "execution_count": 22,
     "metadata": {},
     "output_type": "execute_result"
    }
   ],
   "source": [
    "(a > b) and (b < a)"
   ]
  },
  {
   "cell_type": "code",
   "execution_count": 23,
   "id": "940695bb",
   "metadata": {},
   "outputs": [
    {
     "data": {
      "text/plain": [
       "False"
      ]
     },
     "execution_count": 23,
     "metadata": {},
     "output_type": "execute_result"
    }
   ],
   "source": [
    "(a > b) or (b < a)"
   ]
  },
  {
   "cell_type": "code",
   "execution_count": 24,
   "id": "b56f93f4",
   "metadata": {},
   "outputs": [
    {
     "data": {
      "text/plain": [
       "10"
      ]
     },
     "execution_count": 24,
     "metadata": {},
     "output_type": "execute_result"
    }
   ],
   "source": [
    "a"
   ]
  },
  {
   "cell_type": "code",
   "execution_count": 25,
   "id": "cdaa69f9",
   "metadata": {},
   "outputs": [
    {
     "data": {
      "text/plain": [
       "20"
      ]
     },
     "execution_count": 25,
     "metadata": {},
     "output_type": "execute_result"
    }
   ],
   "source": [
    "b"
   ]
  },
  {
   "cell_type": "code",
   "execution_count": 27,
   "id": "c3da2369",
   "metadata": {},
   "outputs": [
    {
     "data": {
      "text/plain": [
       "False"
      ]
     },
     "execution_count": 27,
     "metadata": {},
     "output_type": "execute_result"
    }
   ],
   "source": [
    "a > 100"
   ]
  },
  {
   "cell_type": "code",
   "execution_count": 32,
   "id": "de33feea",
   "metadata": {},
   "outputs": [
    {
     "data": {
      "text/plain": [
       "True"
      ]
     },
     "execution_count": 32,
     "metadata": {},
     "output_type": "execute_result"
    }
   ],
   "source": [
    "(a > b) or (a < 100)"
   ]
  },
  {
   "cell_type": "code",
   "execution_count": 33,
   "id": "2771dce9",
   "metadata": {},
   "outputs": [
    {
     "data": {
      "text/plain": [
       "False"
      ]
     },
     "execution_count": 33,
     "metadata": {},
     "output_type": "execute_result"
    }
   ],
   "source": [
    "(a > b) and (a > 100)"
   ]
  },
  {
   "cell_type": "code",
   "execution_count": 35,
   "id": "070876bc",
   "metadata": {},
   "outputs": [],
   "source": [
    "# True and True  ---- True\n",
    "# True and False ---- False\n",
    "# False and True ---- False\n",
    "# False and False --- False"
   ]
  },
  {
   "cell_type": "code",
   "execution_count": 36,
   "id": "d989ab56",
   "metadata": {},
   "outputs": [],
   "source": [
    "# q1\n",
    "x=34.56\n",
    "y=3.5\n",
    "\n",
    "# all arithmatic operators\n",
    "# all comparision operators\n",
    "# all logical operators "
   ]
  },
  {
   "cell_type": "code",
   "execution_count": 1,
   "id": "b68633b4",
   "metadata": {},
   "outputs": [
    {
     "name": "stdout",
     "output_type": "stream",
     "text": [
      "x =  34.56\n",
      "y =  3.5\n",
      "x += y:  38.06\n",
      "x -= y:  31.060000000000002\n",
      "x *= y:  120.96000000000001\n",
      "x /= y:  9.874285714285715\n",
      "x %= y:  3.0600000000000023\n",
      "x **= y:  242665.51770697304\n",
      "x //= y:  9.0\n"
     ]
    }
   ],
   "source": [
    "x = 34.56\n",
    "y = 3.5\n",
    "\n",
    "print(\"x = \", x)\n",
    "print(\"y = \", y)\n",
    "\n",
    "x += y  # x = x + y\n",
    "print(\"x += y: \", x)\n",
    "\n",
    "x = 34.56\n",
    "x -= y  # x = x - y\n",
    "print(\"x -= y: \", x)\n",
    "\n",
    "x = 34.56\n",
    "x *= y  # x = x * y\n",
    "print(\"x *= y: \", x)\n",
    "\n",
    "x = 34.56\n",
    "x /= y  # x = x / y\n",
    "print(\"x /= y: \", x)\n",
    "\n",
    "\n",
    "x = 34.56\n",
    "x %= y  # x = x % y\n",
    "print(\"x %= y: \", x)\n",
    "\n",
    "x = 34.56\n",
    "x **= y  # x = x ** y\n",
    "print(\"x **= y: \", x)\n",
    "\n",
    "x = 34.56\n",
    "x //= y  # x = x // y\n",
    "print(\"x //= y: \", x)"
   ]
  },
  {
   "cell_type": "code",
   "execution_count": 2,
   "id": "639e5d8a",
   "metadata": {},
   "outputs": [
    {
     "name": "stdout",
     "output_type": "stream",
     "text": [
      "x > y: True\n",
      "x < y: False\n",
      "x >= y: True\n",
      "x <= y: False\n",
      "x == y: False\n",
      "x != y: True\n"
     ]
    }
   ],
   "source": [
    "x = 34.56\n",
    "y = 3.5\n",
    "\n",
    "print(\"x > y:\", x > y)\n",
    "print(\"x < y:\", x < y)\n",
    "print(\"x >= y:\", x >= y)\n",
    "print(\"x <= y:\", x <= y)\n",
    "print(\"x == y:\", x == y)\n",
    "print(\"x != y:\", x != y)"
   ]
  },
  {
   "cell_type": "code",
   "execution_count": 3,
   "id": "e48de795",
   "metadata": {},
   "outputs": [
    {
     "name": "stdout",
     "output_type": "stream",
     "text": [
      "x > y and x > 10: True\n",
      "x > y or x > 10: True\n",
      "not x > y: False\n"
     ]
    }
   ],
   "source": [
    "x = 34.56\n",
    "y = 3.5\n",
    "\n",
    "print(\"x > y and x > 10:\", x > y and x > 10)\n",
    "print(\"x > y or x > 10:\", x > y or x > 10)\n",
    "print(\"not x > y:\", not x > y)"
   ]
  },
  {
   "cell_type": "code",
   "execution_count": null,
   "id": "9c2ee5a0",
   "metadata": {},
   "outputs": [],
   "source": []
  },
  {
   "cell_type": "code",
   "execution_count": null,
   "id": "e827084f",
   "metadata": {},
   "outputs": [],
   "source": []
  },
  {
   "cell_type": "code",
   "execution_count": null,
   "id": "11e79614",
   "metadata": {},
   "outputs": [],
   "source": []
  },
  {
   "cell_type": "code",
   "execution_count": null,
   "id": "d204c303",
   "metadata": {},
   "outputs": [],
   "source": []
  },
  {
   "cell_type": "code",
   "execution_count": null,
   "id": "12e49f7f",
   "metadata": {},
   "outputs": [],
   "source": []
  },
  {
   "cell_type": "code",
   "execution_count": null,
   "id": "1ff36800",
   "metadata": {},
   "outputs": [],
   "source": []
  },
  {
   "cell_type": "code",
   "execution_count": null,
   "id": "20943554",
   "metadata": {},
   "outputs": [],
   "source": []
  },
  {
   "cell_type": "code",
   "execution_count": null,
   "id": "c2ec1a39",
   "metadata": {},
   "outputs": [],
   "source": []
  }
 ],
 "metadata": {
  "kernelspec": {
   "display_name": "Python 3 (ipykernel)",
   "language": "python",
   "name": "python3"
  },
  "language_info": {
   "codemirror_mode": {
    "name": "ipython",
    "version": 3
   },
   "file_extension": ".py",
   "mimetype": "text/x-python",
   "name": "python",
   "nbconvert_exporter": "python",
   "pygments_lexer": "ipython3",
   "version": "3.11.5"
  }
 },
 "nbformat": 4,
 "nbformat_minor": 5
}
