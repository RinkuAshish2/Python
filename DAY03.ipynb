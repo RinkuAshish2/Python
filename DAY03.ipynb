{
 "cells": [
  {
   "cell_type": "code",
   "execution_count": 2,
   "id": "af02436a",
   "metadata": {},
   "outputs": [],
   "source": [
    "#list tuple sets dictonary"
   ]
  },
  {
   "cell_type": "code",
   "execution_count": 40,
   "id": "cd553977",
   "metadata": {},
   "outputs": [],
   "source": [
    "a=[10,\"Dhoni\",2.3,\"Rinku\",2005,23.77,\"Ranji\",True]"
   ]
  },
  {
   "cell_type": "code",
   "execution_count": 4,
   "id": "6a7150c4",
   "metadata": {},
   "outputs": [
    {
     "data": {
      "text/plain": [
       "'Dhoni'"
      ]
     },
     "execution_count": 4,
     "metadata": {},
     "output_type": "execute_result"
    }
   ],
   "source": [
    "a[1]"
   ]
  },
  {
   "cell_type": "code",
   "execution_count": 5,
   "id": "5465c8c9",
   "metadata": {},
   "outputs": [
    {
     "data": {
      "text/plain": [
       "['Ranji']"
      ]
     },
     "execution_count": 5,
     "metadata": {},
     "output_type": "execute_result"
    }
   ],
   "source": [
    "a[-1:7]"
   ]
  },
  {
   "cell_type": "code",
   "execution_count": 7,
   "id": "a8a458aa",
   "metadata": {},
   "outputs": [
    {
     "data": {
      "text/plain": [
       "[]"
      ]
     },
     "execution_count": 7,
     "metadata": {},
     "output_type": "execute_result"
    }
   ],
   "source": [
    "a[-1:3]"
   ]
  },
  {
   "cell_type": "code",
   "execution_count": 8,
   "id": "07236957",
   "metadata": {},
   "outputs": [
    {
     "data": {
      "text/plain": [
       "['Dhoni', 2.3, 'Rinku', 2005, 23.77, 'Ranji']"
      ]
     },
     "execution_count": 8,
     "metadata": {},
     "output_type": "execute_result"
    }
   ],
   "source": [
    "a[1:7]"
   ]
  },
  {
   "cell_type": "code",
   "execution_count": 10,
   "id": "cf3d76cc",
   "metadata": {},
   "outputs": [
    {
     "data": {
      "text/plain": [
       "2.3"
      ]
     },
     "execution_count": 10,
     "metadata": {},
     "output_type": "execute_result"
    }
   ],
   "source": [
    "a[-6]"
   ]
  },
  {
   "cell_type": "code",
   "execution_count": 11,
   "id": "dd534824",
   "metadata": {},
   "outputs": [
    {
     "data": {
      "text/plain": [
       "2.3"
      ]
     },
     "execution_count": 11,
     "metadata": {},
     "output_type": "execute_result"
    }
   ],
   "source": [
    "a[2]"
   ]
  },
  {
   "cell_type": "code",
   "execution_count": 13,
   "id": "11024cfa",
   "metadata": {},
   "outputs": [
    {
     "data": {
      "text/plain": [
       "'Dhoni'"
      ]
     },
     "execution_count": 13,
     "metadata": {},
     "output_type": "execute_result"
    }
   ],
   "source": [
    "a[1]\n",
    "a[-7]"
   ]
  },
  {
   "cell_type": "code",
   "execution_count": 15,
   "id": "7a45a605",
   "metadata": {},
   "outputs": [
    {
     "data": {
      "text/plain": [
       "[10, 'Dhoni', 2.3, 'Rinku', 2005, 23.77, 'Ranji', True]"
      ]
     },
     "execution_count": 15,
     "metadata": {},
     "output_type": "execute_result"
    }
   ],
   "source": [
    "a[0:8]"
   ]
  },
  {
   "cell_type": "code",
   "execution_count": 16,
   "id": "7f6b8156",
   "metadata": {},
   "outputs": [
    {
     "data": {
      "text/plain": [
       "[2.3, 'Rinku', 2005, 23.77, 'Ranji']"
      ]
     },
     "execution_count": 16,
     "metadata": {},
     "output_type": "execute_result"
    }
   ],
   "source": [
    "a[2:7]"
   ]
  },
  {
   "cell_type": "code",
   "execution_count": 17,
   "id": "f6d89781",
   "metadata": {},
   "outputs": [
    {
     "data": {
      "text/plain": [
       "[2.3, 'Rinku', 2005, 23.77, 'Ranji']"
      ]
     },
     "execution_count": 17,
     "metadata": {},
     "output_type": "execute_result"
    }
   ],
   "source": [
    "a[-6:7]"
   ]
  },
  {
   "cell_type": "code",
   "execution_count": 18,
   "id": "ea9797ce",
   "metadata": {},
   "outputs": [
    {
     "data": {
      "text/plain": [
       "[2.3, 'Rinku', 2005, 23.77, 'Ranji']"
      ]
     },
     "execution_count": 18,
     "metadata": {},
     "output_type": "execute_result"
    }
   ],
   "source": [
    "a[2:-1]"
   ]
  },
  {
   "cell_type": "code",
   "execution_count": 20,
   "id": "637708f1",
   "metadata": {},
   "outputs": [
    {
     "data": {
      "text/plain": [
       "[2.3, 'Rinku', 2005, 23.77, 'Ranji']"
      ]
     },
     "execution_count": 20,
     "metadata": {},
     "output_type": "execute_result"
    }
   ],
   "source": [
    "a[-6:-1]"
   ]
  },
  {
   "cell_type": "code",
   "execution_count": 23,
   "id": "883000d6",
   "metadata": {},
   "outputs": [
    {
     "data": {
      "text/plain": [
       "[10, 2.3, 2005]"
      ]
     },
     "execution_count": 23,
     "metadata": {},
     "output_type": "execute_result"
    }
   ],
   "source": [
    "a[0:6:2]#step size that is [start:step:stop]"
   ]
  },
  {
   "cell_type": "code",
   "execution_count": 24,
   "id": "6934a411",
   "metadata": {},
   "outputs": [
    {
     "data": {
      "text/plain": [
       "['Rinku', 23.77, True]"
      ]
     },
     "execution_count": 24,
     "metadata": {},
     "output_type": "execute_result"
    }
   ],
   "source": [
    "a[3:8:2]"
   ]
  },
  {
   "cell_type": "code",
   "execution_count": 30,
   "id": "294b1b7f",
   "metadata": {},
   "outputs": [
    {
     "data": {
      "text/plain": [
       "'s'"
      ]
     },
     "execution_count": 30,
     "metadata": {},
     "output_type": "execute_result"
    }
   ],
   "source": [
    "a[-2]"
   ]
  },
  {
   "cell_type": "code",
   "execution_count": 34,
   "id": "0376eeca",
   "metadata": {},
   "outputs": [
    {
     "data": {
      "text/plain": [
       "'dhanush'"
      ]
     },
     "execution_count": 34,
     "metadata": {},
     "output_type": "execute_result"
    }
   ],
   "source": [
    "a[0:8]"
   ]
  },
  {
   "cell_type": "code",
   "execution_count": 42,
   "id": "1c95aa2e",
   "metadata": {},
   "outputs": [],
   "source": [
    "m=[203,\"Hyd\",45,True,\"Mumb\",78,175,34.5]"
   ]
  },
  {
   "cell_type": "code",
   "execution_count": 43,
   "id": "d920fc09",
   "metadata": {},
   "outputs": [
    {
     "data": {
      "text/plain": [
       "[203, 'Hyd', 45, True, 'Mumb', 78, 175, 34.5]"
      ]
     },
     "execution_count": 43,
     "metadata": {},
     "output_type": "execute_result"
    }
   ],
   "source": [
    "m"
   ]
  },
  {
   "cell_type": "code",
   "execution_count": 41,
   "id": "9a68dc9b",
   "metadata": {},
   "outputs": [],
   "source": [
    "#list method\n",
    "\n",
    "#append\n",
    "#insert (position,changenumber in that palce)\n",
    "#pop(removing the value from yhat index)\n",
    "#remove(we could need to mention the index position of the value directly we can remove that value)\n",
    "#count(number of values in the list which count)\n",
    "#councotination means adding two lists "
   ]
  },
  {
   "cell_type": "code",
   "execution_count": 44,
   "id": "18264f44",
   "metadata": {},
   "outputs": [],
   "source": [
    "m.append(45)"
   ]
  },
  {
   "cell_type": "code",
   "execution_count": 45,
   "id": "28697a3f",
   "metadata": {},
   "outputs": [
    {
     "data": {
      "text/plain": [
       "[203, 'Hyd', 45, True, 'Mumb', 78, 175, 34.5, 45]"
      ]
     },
     "execution_count": 45,
     "metadata": {},
     "output_type": "execute_result"
    }
   ],
   "source": [
    "m"
   ]
  },
  {
   "cell_type": "code",
   "execution_count": 46,
   "id": "16fc15fe",
   "metadata": {},
   "outputs": [],
   "source": [
    "m.append(\"Ind\")"
   ]
  },
  {
   "cell_type": "code",
   "execution_count": 47,
   "id": "9e32cdf1",
   "metadata": {},
   "outputs": [
    {
     "data": {
      "text/plain": [
       "[203, 'Hyd', 45, True, 'Mumb', 78, 175, 34.5, 45, 'Ind']"
      ]
     },
     "execution_count": 47,
     "metadata": {},
     "output_type": "execute_result"
    }
   ],
   "source": [
    "m"
   ]
  },
  {
   "cell_type": "code",
   "execution_count": 51,
   "id": "5d6a51ce",
   "metadata": {},
   "outputs": [],
   "source": [
    "m.insert(4,\"Nzb\")"
   ]
  },
  {
   "cell_type": "code",
   "execution_count": 52,
   "id": "fdd953a1",
   "metadata": {},
   "outputs": [
    {
     "data": {
      "text/plain": [
       "[203, 'Hyd', 7, 7, 'Nzb', 45, True, 'Mumb', 78, 175, 34.5, 45, 'Ind']"
      ]
     },
     "execution_count": 52,
     "metadata": {},
     "output_type": "execute_result"
    }
   ],
   "source": [
    "m"
   ]
  },
  {
   "cell_type": "code",
   "execution_count": 53,
   "id": "e5ffa6e5",
   "metadata": {},
   "outputs": [
    {
     "data": {
      "text/plain": [
       "7"
      ]
     },
     "execution_count": 53,
     "metadata": {},
     "output_type": "execute_result"
    }
   ],
   "source": [
    "m.pop(2)"
   ]
  },
  {
   "cell_type": "code",
   "execution_count": 54,
   "id": "185adcd9",
   "metadata": {},
   "outputs": [
    {
     "data": {
      "text/plain": [
       "[203, 'Hyd', 7, 'Nzb', 45, True, 'Mumb', 78, 175, 34.5, 45, 'Ind']"
      ]
     },
     "execution_count": 54,
     "metadata": {},
     "output_type": "execute_result"
    }
   ],
   "source": [
    "m"
   ]
  },
  {
   "cell_type": "code",
   "execution_count": 55,
   "id": "d7cbf55d",
   "metadata": {},
   "outputs": [
    {
     "data": {
      "text/plain": [
       "175"
      ]
     },
     "execution_count": 55,
     "metadata": {},
     "output_type": "execute_result"
    }
   ],
   "source": [
    "m.pop(8)"
   ]
  },
  {
   "cell_type": "code",
   "execution_count": 56,
   "id": "d5eb4c03",
   "metadata": {},
   "outputs": [
    {
     "data": {
      "text/plain": [
       "[203, 'Hyd', 7, 'Nzb', 45, True, 'Mumb', 78, 34.5, 45, 'Ind']"
      ]
     },
     "execution_count": 56,
     "metadata": {},
     "output_type": "execute_result"
    }
   ],
   "source": [
    "m"
   ]
  },
  {
   "cell_type": "code",
   "execution_count": 57,
   "id": "cd1396f1",
   "metadata": {},
   "outputs": [],
   "source": [
    "m.remove(\"Mumb\")"
   ]
  },
  {
   "cell_type": "code",
   "execution_count": 58,
   "id": "82f4aa67",
   "metadata": {},
   "outputs": [
    {
     "data": {
      "text/plain": [
       "[203, 'Hyd', 7, 'Nzb', 45, True, 78, 34.5, 45, 'Ind']"
      ]
     },
     "execution_count": 58,
     "metadata": {},
     "output_type": "execute_result"
    }
   ],
   "source": [
    "m"
   ]
  },
  {
   "cell_type": "code",
   "execution_count": 59,
   "id": "4a883fea",
   "metadata": {},
   "outputs": [
    {
     "data": {
      "text/plain": [
       "1"
      ]
     },
     "execution_count": 59,
     "metadata": {},
     "output_type": "execute_result"
    }
   ],
   "source": [
    "m.count(7)"
   ]
  },
  {
   "cell_type": "code",
   "execution_count": 60,
   "id": "b3e9e5ee",
   "metadata": {},
   "outputs": [],
   "source": [
    "m.insert(4,7)"
   ]
  },
  {
   "cell_type": "code",
   "execution_count": 61,
   "id": "9874585c",
   "metadata": {},
   "outputs": [
    {
     "data": {
      "text/plain": [
       "[203, 'Hyd', 7, 'Nzb', 7, 45, True, 78, 34.5, 45, 'Ind']"
      ]
     },
     "execution_count": 61,
     "metadata": {},
     "output_type": "execute_result"
    }
   ],
   "source": [
    "m"
   ]
  },
  {
   "cell_type": "code",
   "execution_count": 62,
   "id": "cd16ef06",
   "metadata": {},
   "outputs": [
    {
     "data": {
      "text/plain": [
       "2"
      ]
     },
     "execution_count": 62,
     "metadata": {},
     "output_type": "execute_result"
    }
   ],
   "source": [
    "m.count(7)"
   ]
  },
  {
   "cell_type": "code",
   "execution_count": 63,
   "id": "f4f87188",
   "metadata": {},
   "outputs": [
    {
     "ename": "TypeError",
     "evalue": "list.append() takes exactly one argument (2 given)",
     "output_type": "error",
     "traceback": [
      "\u001b[1;31m---------------------------------------------------------------------------\u001b[0m",
      "\u001b[1;31mTypeError\u001b[0m                                 Traceback (most recent call last)",
      "Cell \u001b[1;32mIn[63], line 1\u001b[0m\n\u001b[1;32m----> 1\u001b[0m m\u001b[38;5;241m.\u001b[39mappend(\u001b[38;5;241m60\u001b[39m,\u001b[38;5;241m70\u001b[39m)\n",
      "\u001b[1;31mTypeError\u001b[0m: list.append() takes exactly one argument (2 given)"
     ]
    }
   ],
   "source": [
    "m.append(60,70)#we cannot append two values at a time "
   ]
  },
  {
   "cell_type": "code",
   "execution_count": 65,
   "id": "16500b4c",
   "metadata": {},
   "outputs": [],
   "source": [
    "m.extend([60,70]) #we use extend function"
   ]
  },
  {
   "cell_type": "code",
   "execution_count": 66,
   "id": "35906949",
   "metadata": {},
   "outputs": [
    {
     "data": {
      "text/plain": [
       "[203, 'Hyd', 7, 'Nzb', 7, 45, True, 78, 34.5, 45, 'Ind', 60, 70]"
      ]
     },
     "execution_count": 66,
     "metadata": {},
     "output_type": "execute_result"
    }
   ],
   "source": [
    "m"
   ]
  },
  {
   "cell_type": "code",
   "execution_count": 68,
   "id": "80183511",
   "metadata": {},
   "outputs": [],
   "source": [
    "a=[1,2,3,4]"
   ]
  },
  {
   "cell_type": "code",
   "execution_count": 69,
   "id": "87e580cf",
   "metadata": {},
   "outputs": [
    {
     "data": {
      "text/plain": [
       "[1, 2, 3, 4]"
      ]
     },
     "execution_count": 69,
     "metadata": {},
     "output_type": "execute_result"
    }
   ],
   "source": [
    "a"
   ]
  },
  {
   "cell_type": "code",
   "execution_count": 70,
   "id": "7048f6eb",
   "metadata": {},
   "outputs": [],
   "source": [
    "b=[2,3,4,5]"
   ]
  },
  {
   "cell_type": "code",
   "execution_count": 71,
   "id": "bb8722e0",
   "metadata": {},
   "outputs": [
    {
     "data": {
      "text/plain": [
       "[2, 3, 4, 5]"
      ]
     },
     "execution_count": 71,
     "metadata": {},
     "output_type": "execute_result"
    }
   ],
   "source": [
    "b"
   ]
  },
  {
   "cell_type": "code",
   "execution_count": 72,
   "id": "b141a8ec",
   "metadata": {},
   "outputs": [
    {
     "data": {
      "text/plain": [
       "[1, 2, 3, 4, 2, 3, 4, 5]"
      ]
     },
     "execution_count": 72,
     "metadata": {},
     "output_type": "execute_result"
    }
   ],
   "source": [
    "a+b"
   ]
  },
  {
   "cell_type": "code",
   "execution_count": 1,
   "id": "1d2d7903",
   "metadata": {},
   "outputs": [
    {
     "name": "stdout",
     "output_type": "stream",
     "text": [
      "2\n",
      "3\n",
      "4\n",
      "5\n",
      "2 3 4 5\n",
      "2\n"
     ]
    }
   ],
   "source": [
    "a=int(input())\n",
    "b=int(input())\n",
    "c=int(input())\n",
    "d=int(input())\n",
    "print(a,b,c,d)\n",
    "print(a)"
   ]
  },
  {
   "cell_type": "code",
   "execution_count": null,
   "id": "31c474b0",
   "metadata": {},
   "outputs": [],
   "source": []
  },
  {
   "cell_type": "code",
   "execution_count": null,
   "id": "fbe34169",
   "metadata": {},
   "outputs": [],
   "source": []
  }
 ],
 "metadata": {
  "kernelspec": {
   "display_name": "Python 3 (ipykernel)",
   "language": "python",
   "name": "python3"
  },
  "language_info": {
   "codemirror_mode": {
    "name": "ipython",
    "version": 3
   },
   "file_extension": ".py",
   "mimetype": "text/x-python",
   "name": "python",
   "nbconvert_exporter": "python",
   "pygments_lexer": "ipython3",
   "version": "3.11.5"
  }
 },
 "nbformat": 4,
 "nbformat_minor": 5
}
