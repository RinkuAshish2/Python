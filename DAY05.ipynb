{
 "cells": [
  {
   "cell_type": "code",
   "execution_count": 1,
   "id": "437dfdf7",
   "metadata": {},
   "outputs": [],
   "source": [
    "#Dictonary"
   ]
  },
  {
   "cell_type": "code",
   "execution_count": 4,
   "id": "dd4bd6b6",
   "metadata": {},
   "outputs": [],
   "source": [
    "d={1:\"a\",2:\"b\",3:\"c\"}"
   ]
  },
  {
   "cell_type": "code",
   "execution_count": 5,
   "id": "c5e92e36",
   "metadata": {},
   "outputs": [
    {
     "data": {
      "text/plain": [
       "{1: 'a', 2: 'b', 3: 'c'}"
      ]
     },
     "execution_count": 5,
     "metadata": {},
     "output_type": "execute_result"
    }
   ],
   "source": [
    "d"
   ]
  },
  {
   "cell_type": "code",
   "execution_count": 6,
   "id": "ba5b26ba",
   "metadata": {},
   "outputs": [
    {
     "data": {
      "text/plain": [
       "dict"
      ]
     },
     "execution_count": 6,
     "metadata": {},
     "output_type": "execute_result"
    }
   ],
   "source": [
    "type(d)"
   ]
  },
  {
   "cell_type": "code",
   "execution_count": 9,
   "id": "7b526f11",
   "metadata": {},
   "outputs": [
    {
     "name": "stdout",
     "output_type": "stream",
     "text": [
      "a\n",
      "b\n",
      "c\n"
     ]
    }
   ],
   "source": [
    "print(d[1])\n",
    "print(d[2])\n",
    "print(d[3])"
   ]
  },
  {
   "cell_type": "code",
   "execution_count": 10,
   "id": "e76c03ff",
   "metadata": {},
   "outputs": [],
   "source": [
    "d[\"a\"]=\"ashish\""
   ]
  },
  {
   "cell_type": "code",
   "execution_count": 11,
   "id": "9d35c22f",
   "metadata": {},
   "outputs": [
    {
     "data": {
      "text/plain": [
       "{1: 'a', 2: 'b', 3: 'c', 'a': 'ashish'}"
      ]
     },
     "execution_count": 11,
     "metadata": {},
     "output_type": "execute_result"
    }
   ],
   "source": [
    "d"
   ]
  },
  {
   "cell_type": "code",
   "execution_count": 12,
   "id": "78e2660a",
   "metadata": {},
   "outputs": [],
   "source": [
    "d[1]=5  # it is not used to allow the duplicate values"
   ]
  },
  {
   "cell_type": "code",
   "execution_count": 13,
   "id": "fd722905",
   "metadata": {},
   "outputs": [
    {
     "data": {
      "text/plain": [
       "{1: 5, 2: 'b', 3: 'c', 'a': 'ashish'}"
      ]
     },
     "execution_count": 13,
     "metadata": {},
     "output_type": "execute_result"
    }
   ],
   "source": [
    "d"
   ]
  },
  {
   "cell_type": "code",
   "execution_count": 15,
   "id": "f5cf3d0c",
   "metadata": {},
   "outputs": [],
   "source": [
    "d.update({2:10})"
   ]
  },
  {
   "cell_type": "code",
   "execution_count": 16,
   "id": "ff7879df",
   "metadata": {},
   "outputs": [
    {
     "data": {
      "text/plain": [
       "{1: 5, 2: 10, 3: 'c', 'a': 'ashish'}"
      ]
     },
     "execution_count": 16,
     "metadata": {},
     "output_type": "execute_result"
    }
   ],
   "source": [
    "d"
   ]
  },
  {
   "cell_type": "code",
   "execution_count": 17,
   "id": "2f81d320",
   "metadata": {},
   "outputs": [],
   "source": [
    "d.update({3:15})"
   ]
  },
  {
   "cell_type": "code",
   "execution_count": 18,
   "id": "e6c87a3f",
   "metadata": {},
   "outputs": [
    {
     "data": {
      "text/plain": [
       "{1: 5, 2: 10, 3: 15, 'a': 'ashish'}"
      ]
     },
     "execution_count": 18,
     "metadata": {},
     "output_type": "execute_result"
    }
   ],
   "source": [
    "d"
   ]
  },
  {
   "cell_type": "code",
   "execution_count": 19,
   "id": "8094805a",
   "metadata": {},
   "outputs": [
    {
     "data": {
      "text/plain": [
       "5"
      ]
     },
     "execution_count": 19,
     "metadata": {},
     "output_type": "execute_result"
    }
   ],
   "source": [
    "d.get(1)"
   ]
  },
  {
   "cell_type": "code",
   "execution_count": 20,
   "id": "df732b36",
   "metadata": {},
   "outputs": [
    {
     "data": {
      "text/plain": [
       "'ashish'"
      ]
     },
     "execution_count": 20,
     "metadata": {},
     "output_type": "execute_result"
    }
   ],
   "source": [
    "d.get('a')"
   ]
  },
  {
   "cell_type": "code",
   "execution_count": 22,
   "id": "aa112686",
   "metadata": {},
   "outputs": [],
   "source": [
    "d.update({1:\"India\"})"
   ]
  },
  {
   "cell_type": "code",
   "execution_count": 23,
   "id": "570f3233",
   "metadata": {},
   "outputs": [
    {
     "data": {
      "text/plain": [
       "{1: 'India', 2: 10, 3: 15, 'a': 'ashish'}"
      ]
     },
     "execution_count": 23,
     "metadata": {},
     "output_type": "execute_result"
    }
   ],
   "source": [
    "d"
   ]
  },
  {
   "cell_type": "code",
   "execution_count": 24,
   "id": "e47d466f",
   "metadata": {},
   "outputs": [],
   "source": [
    "d.update({7:'India'})"
   ]
  },
  {
   "cell_type": "code",
   "execution_count": 26,
   "id": "72376a5e",
   "metadata": {},
   "outputs": [
    {
     "data": {
      "text/plain": [
       "{1: 'India', 2: 10, 3: 15, 'a': 'ashish', 7: 'India'}"
      ]
     },
     "execution_count": 26,
     "metadata": {},
     "output_type": "execute_result"
    }
   ],
   "source": [
    "d # it is used to allow the duplicate values"
   ]
  },
  {
   "cell_type": "code",
   "execution_count": 33,
   "id": "7a318dbc",
   "metadata": {},
   "outputs": [
    {
     "data": {
      "text/plain": [
       "{1: 'India', 2: 10, 3: 15, 7: 'India'}"
      ]
     },
     "execution_count": 33,
     "metadata": {},
     "output_type": "execute_result"
    }
   ],
   "source": [
    "d"
   ]
  },
  {
   "cell_type": "code",
   "execution_count": 30,
   "id": "48dd220b",
   "metadata": {},
   "outputs": [
    {
     "data": {
      "text/plain": [
       "{1: 'India', 2: 10, 3: 15, 7: 'India'}"
      ]
     },
     "execution_count": 30,
     "metadata": {},
     "output_type": "execute_result"
    }
   ],
   "source": [
    "d"
   ]
  },
  {
   "cell_type": "code",
   "execution_count": 34,
   "id": "c71ebd2c",
   "metadata": {},
   "outputs": [],
   "source": [
    "del d[1]"
   ]
  },
  {
   "cell_type": "code",
   "execution_count": 35,
   "id": "dea4ddd1",
   "metadata": {},
   "outputs": [
    {
     "data": {
      "text/plain": [
       "{2: 10, 3: 15, 7: 'India'}"
      ]
     },
     "execution_count": 35,
     "metadata": {},
     "output_type": "execute_result"
    }
   ],
   "source": [
    "d"
   ]
  },
  {
   "cell_type": "code",
   "execution_count": 37,
   "id": "26437d7f",
   "metadata": {},
   "outputs": [
    {
     "data": {
      "text/plain": [
       "dict_values([10, 15, 'India'])"
      ]
     },
     "execution_count": 37,
     "metadata": {},
     "output_type": "execute_result"
    }
   ],
   "source": [
    "d.values()"
   ]
  },
  {
   "cell_type": "code",
   "execution_count": 38,
   "id": "d9f2fc75",
   "metadata": {},
   "outputs": [
    {
     "data": {
      "text/plain": [
       "dict_keys([2, 3, 7])"
      ]
     },
     "execution_count": 38,
     "metadata": {},
     "output_type": "execute_result"
    }
   ],
   "source": [
    "d.keys()"
   ]
  },
  {
   "cell_type": "code",
   "execution_count": 39,
   "id": "b301c7b3",
   "metadata": {},
   "outputs": [],
   "source": [
    "d[104]=[1000,2000,3000,4000]"
   ]
  },
  {
   "cell_type": "code",
   "execution_count": 40,
   "id": "49ab1e9c",
   "metadata": {},
   "outputs": [
    {
     "data": {
      "text/plain": [
       "{2: 10, 3: 15, 7: 'India', 104: [1000, 2000, 3000, 4000]}"
      ]
     },
     "execution_count": 40,
     "metadata": {},
     "output_type": "execute_result"
    }
   ],
   "source": [
    "d"
   ]
  },
  {
   "cell_type": "code",
   "execution_count": 43,
   "id": "a99898c9",
   "metadata": {},
   "outputs": [],
   "source": [
    "# d.update({104:[1000,2000,3000,4000]}) "
   ]
  },
  {
   "cell_type": "code",
   "execution_count": 42,
   "id": "cb1e2063",
   "metadata": {},
   "outputs": [
    {
     "data": {
      "text/plain": [
       "{2: 10, 3: 15, 7: 'India', 104: [1000, 2000, 3000, 4000]}"
      ]
     },
     "execution_count": 42,
     "metadata": {},
     "output_type": "execute_result"
    }
   ],
   "source": [
    "d"
   ]
  },
  {
   "cell_type": "code",
   "execution_count": 45,
   "id": "fba661d0",
   "metadata": {},
   "outputs": [
    {
     "data": {
      "text/plain": [
       "10"
      ]
     },
     "execution_count": 45,
     "metadata": {},
     "output_type": "execute_result"
    }
   ],
   "source": [
    "d[2]"
   ]
  },
  {
   "cell_type": "code",
   "execution_count": 47,
   "id": "a3d200af",
   "metadata": {},
   "outputs": [
    {
     "data": {
      "text/plain": [
       "int"
      ]
     },
     "execution_count": 47,
     "metadata": {},
     "output_type": "execute_result"
    }
   ],
   "source": [
    "type(d[2])"
   ]
  },
  {
   "cell_type": "code",
   "execution_count": 48,
   "id": "c9b9771c",
   "metadata": {},
   "outputs": [
    {
     "data": {
      "text/plain": [
       "str"
      ]
     },
     "execution_count": 48,
     "metadata": {},
     "output_type": "execute_result"
    }
   ],
   "source": [
    "type(d[7])"
   ]
  },
  {
   "cell_type": "code",
   "execution_count": 49,
   "id": "8a03d39a",
   "metadata": {},
   "outputs": [
    {
     "data": {
      "text/plain": [
       "'India'"
      ]
     },
     "execution_count": 49,
     "metadata": {},
     "output_type": "execute_result"
    }
   ],
   "source": [
    "d[7]"
   ]
  },
  {
   "cell_type": "code",
   "execution_count": 50,
   "id": "b1a46190",
   "metadata": {},
   "outputs": [],
   "source": [
    "d.update({103:(30,40,50,60)})"
   ]
  },
  {
   "cell_type": "code",
   "execution_count": 51,
   "id": "89616c55",
   "metadata": {},
   "outputs": [
    {
     "data": {
      "text/plain": [
       "{2: 10,\n",
       " 3: 15,\n",
       " 7: 'India',\n",
       " 104: [1000, 2000, 3000, 4000],\n",
       " 103: (30, 40, 50, 60)}"
      ]
     },
     "execution_count": 51,
     "metadata": {},
     "output_type": "execute_result"
    }
   ],
   "source": [
    "d"
   ]
  },
  {
   "cell_type": "code",
   "execution_count": 53,
   "id": "45bdd1ba",
   "metadata": {},
   "outputs": [],
   "source": [
    "d[104].append(56)"
   ]
  },
  {
   "cell_type": "code",
   "execution_count": 54,
   "id": "ea7d00d4",
   "metadata": {},
   "outputs": [
    {
     "data": {
      "text/plain": [
       "{2: 10,\n",
       " 3: 15,\n",
       " 7: 'India',\n",
       " 104: [1000, 2000, 3000, 4000, 56],\n",
       " 103: (30, 40, 50, 60)}"
      ]
     },
     "execution_count": 54,
     "metadata": {},
     "output_type": "execute_result"
    }
   ],
   "source": [
    "d"
   ]
  },
  {
   "cell_type": "code",
   "execution_count": 55,
   "id": "7fe338d7",
   "metadata": {},
   "outputs": [
    {
     "data": {
      "text/plain": [
       "list"
      ]
     },
     "execution_count": 55,
     "metadata": {},
     "output_type": "execute_result"
    }
   ],
   "source": [
    "type(d[104])"
   ]
  },
  {
   "cell_type": "code",
   "execution_count": 56,
   "id": "25e2558e",
   "metadata": {},
   "outputs": [],
   "source": [
    "d[2]={50:[7,8,9,5],'apple':(20,30,77,[44,55,678])}"
   ]
  },
  {
   "cell_type": "code",
   "execution_count": 57,
   "id": "6ce65caa",
   "metadata": {},
   "outputs": [
    {
     "data": {
      "text/plain": [
       "{2: {50: [7, 8, 9, 5], 'apple': (20, 30, 77, [44, 55, 678])},\n",
       " 3: 15,\n",
       " 7: 'India',\n",
       " 104: [1000, 2000, 3000, 4000, 56],\n",
       " 103: (30, 40, 50, 60)}"
      ]
     },
     "execution_count": 57,
     "metadata": {},
     "output_type": "execute_result"
    }
   ],
   "source": [
    "d"
   ]
  },
  {
   "cell_type": "code",
   "execution_count": 60,
   "id": "50d0b9ef",
   "metadata": {},
   "outputs": [],
   "source": [
    "d.update({105:10})"
   ]
  },
  {
   "cell_type": "code",
   "execution_count": 61,
   "id": "be3565ab",
   "metadata": {},
   "outputs": [
    {
     "data": {
      "text/plain": [
       "{2: {50: [7, 8, 9, 5], 'apple': (20, 30, 77, [44, 55, 678])},\n",
       " 3: 15,\n",
       " 7: 'India',\n",
       " 104: [1000, 2000, 3000, 4000, 56],\n",
       " 103: (30, 40, 50, 60),\n",
       " 105: 10}"
      ]
     },
     "execution_count": 61,
     "metadata": {},
     "output_type": "execute_result"
    }
   ],
   "source": [
    "d"
   ]
  },
  {
   "cell_type": "code",
   "execution_count": 62,
   "id": "e007177d",
   "metadata": {},
   "outputs": [],
   "source": [
    "d[105]={'a':{30,50,60},'b':(11,22,33,44),'c':['k',{'L':[12,34],'m':(99,88,77)},'N']}"
   ]
  },
  {
   "cell_type": "code",
   "execution_count": 64,
   "id": "aac84380",
   "metadata": {},
   "outputs": [
    {
     "data": {
      "text/plain": [
       "{2: {50: [7, 8, 9, 5], 'apple': (20, 30, 77, [44, 55, 678])},\n",
       " 3: 15,\n",
       " 7: 'India',\n",
       " 104: [1000, 2000, 3000, 4000, 56],\n",
       " 103: (30, 40, 50, 60),\n",
       " 105: {'a': {30, 50, 60},\n",
       "  'b': (11, 22, 33, 44),\n",
       "  'c': ['k', {'L': [12, 34], 'm': (99, 88, 77)}, 'N']}}"
      ]
     },
     "execution_count": 64,
     "metadata": {},
     "output_type": "execute_result"
    }
   ],
   "source": [
    "d"
   ]
  },
  {
   "cell_type": "code",
   "execution_count": null,
   "id": "457b2f24",
   "metadata": {},
   "outputs": [],
   "source": []
  },
  {
   "cell_type": "code",
   "execution_count": 67,
   "id": "f7447820",
   "metadata": {},
   "outputs": [
    {
     "data": {
      "text/plain": [
       "{2: {50: [7, 8, 9, 5], 'apple': (20, 30, 77, [44, 55, 678])},\n",
       " 3: 15,\n",
       " 7: 'India',\n",
       " 104: 1000,\n",
       " 103: (30, 40, 50, 60),\n",
       " 105: {'a': {30, 50, 60},\n",
       "  'b': (11, 22, 33, 44),\n",
       "  'c': ['k', {'L': [12, 34], 'm': (99, 88, 77)}, 'N']}}"
      ]
     },
     "execution_count": 67,
     "metadata": {},
     "output_type": "execute_result"
    }
   ],
   "source": [
    "d"
   ]
  },
  {
   "cell_type": "code",
   "execution_count": 68,
   "id": "326e3d65",
   "metadata": {},
   "outputs": [
    {
     "data": {
      "text/plain": [
       "77"
      ]
     },
     "execution_count": 68,
     "metadata": {},
     "output_type": "execute_result"
    }
   ],
   "source": [
    "d[2]['apple'][2]"
   ]
  },
  {
   "cell_type": "code",
   "execution_count": 76,
   "id": "0e2ec49e",
   "metadata": {},
   "outputs": [
    {
     "data": {
      "text/plain": [
       "55"
      ]
     },
     "execution_count": 76,
     "metadata": {},
     "output_type": "execute_result"
    }
   ],
   "source": [
    "d[2]['apple'][3][1]"
   ]
  },
  {
   "cell_type": "code",
   "execution_count": 77,
   "id": "af5ba73a",
   "metadata": {},
   "outputs": [
    {
     "data": {
      "text/plain": [
       "{50: [7, 8, 9, 5], 'apple': (20, 30, 77, [44, 55, 678])}"
      ]
     },
     "execution_count": 77,
     "metadata": {},
     "output_type": "execute_result"
    }
   ],
   "source": [
    "d[2]"
   ]
  },
  {
   "cell_type": "code",
   "execution_count": 78,
   "id": "ebfd0d6b",
   "metadata": {},
   "outputs": [
    {
     "data": {
      "text/plain": [
       "(20, 30, 77, [44, 55, 678])"
      ]
     },
     "execution_count": 78,
     "metadata": {},
     "output_type": "execute_result"
    }
   ],
   "source": [
    "d[2]['apple']"
   ]
  },
  {
   "cell_type": "code",
   "execution_count": 80,
   "id": "aa296d13",
   "metadata": {},
   "outputs": [
    {
     "data": {
      "text/plain": [
       "[44, 55, 678]"
      ]
     },
     "execution_count": 80,
     "metadata": {},
     "output_type": "execute_result"
    }
   ],
   "source": [
    "d[2]['apple'][3]"
   ]
  },
  {
   "cell_type": "code",
   "execution_count": 82,
   "id": "54efcbfc",
   "metadata": {},
   "outputs": [
    {
     "data": {
      "text/plain": [
       "678"
      ]
     },
     "execution_count": 82,
     "metadata": {},
     "output_type": "execute_result"
    }
   ],
   "source": [
    "d[2]['apple'][3][2] #sliceing and also called as the indexing"
   ]
  },
  {
   "cell_type": "code",
   "execution_count": 83,
   "id": "11c26ca6",
   "metadata": {},
   "outputs": [
    {
     "data": {
      "text/plain": [
       "{30, 50, 60}"
      ]
     },
     "execution_count": 83,
     "metadata": {},
     "output_type": "execute_result"
    }
   ],
   "source": [
    "d[105]['a']"
   ]
  },
  {
   "cell_type": "code",
   "execution_count": 93,
   "id": "af6db9e9",
   "metadata": {},
   "outputs": [
    {
     "data": {
      "text/plain": [
       "{'a': {30, 50, 60},\n",
       " 'b': (11, 22, 33, 44),\n",
       " 'c': ['k', {'L': [12, 34], 'm': (99, 88, 77)}, 'N']}"
      ]
     },
     "execution_count": 93,
     "metadata": {},
     "output_type": "execute_result"
    }
   ],
   "source": [
    "d[105]"
   ]
  },
  {
   "cell_type": "code",
   "execution_count": 94,
   "id": "ab8bdd6d",
   "metadata": {},
   "outputs": [
    {
     "data": {
      "text/plain": [
       "['k', {'L': [12, 34], 'm': (99, 88, 77)}, 'N']"
      ]
     },
     "execution_count": 94,
     "metadata": {},
     "output_type": "execute_result"
    }
   ],
   "source": [
    "d[105]['c']"
   ]
  },
  {
   "cell_type": "code",
   "execution_count": 98,
   "id": "0f9c980b",
   "metadata": {},
   "outputs": [
    {
     "data": {
      "text/plain": [
       "88"
      ]
     },
     "execution_count": 98,
     "metadata": {},
     "output_type": "execute_result"
    }
   ],
   "source": [
    "d[105]['c'][1]['m'][1]"
   ]
  },
  {
   "cell_type": "code",
   "execution_count": null,
   "id": "2b06a6dc",
   "metadata": {},
   "outputs": [],
   "source": []
  }
 ],
 "metadata": {
  "kernelspec": {
   "display_name": "Python 3 (ipykernel)",
   "language": "python",
   "name": "python3"
  },
  "language_info": {
   "codemirror_mode": {
    "name": "ipython",
    "version": 3
   },
   "file_extension": ".py",
   "mimetype": "text/x-python",
   "name": "python",
   "nbconvert_exporter": "python",
   "pygments_lexer": "ipython3",
   "version": "3.11.5"
  }
 },
 "nbformat": 4,
 "nbformat_minor": 5
}
