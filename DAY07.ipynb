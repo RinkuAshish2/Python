{
 "cells": [
  {
   "cell_type": "code",
   "execution_count": 1,
   "id": "bf3a57c5",
   "metadata": {},
   "outputs": [],
   "source": [
    "#FOR LOOPS "
   ]
  },
  {
   "cell_type": "code",
   "execution_count": 12,
   "id": "6bbc72ee",
   "metadata": {},
   "outputs": [
    {
     "name": "stdout",
     "output_type": "stream",
     "text": [
      "7.Dhoni\n",
      "7.Dhoni\n",
      "7.Dhoni\n",
      "7.Dhoni\n",
      "7.Dhoni\n",
      "7.Dhoni\n",
      "7.Dhoni\n",
      "\n"
     ]
    }
   ],
   "source": [
    "print(\"7.Dhoni\\n\"* 7)"
   ]
  },
  {
   "cell_type": "code",
   "execution_count": 14,
   "id": "7ccd1f2b",
   "metadata": {},
   "outputs": [
    {
     "name": "stdout",
     "output_type": "stream",
     "text": [
      "Yes 7\n",
      "Yes 8\n",
      "Yes 9\n"
     ]
    }
   ],
   "source": [
    "x=7\n",
    "while x<10:\n",
    "    print(\"Yes\",x)\n",
    "    x=x+1"
   ]
  },
  {
   "cell_type": "code",
   "execution_count": 18,
   "id": "28d136c0",
   "metadata": {},
   "outputs": [],
   "source": [
    "y=[40,20,80,50,30,60,90]"
   ]
  },
  {
   "cell_type": "code",
   "execution_count": 19,
   "id": "6323eb04",
   "metadata": {},
   "outputs": [
    {
     "data": {
      "text/plain": [
       "[40, 20, 80, 50, 30, 60, 90]"
      ]
     },
     "execution_count": 19,
     "metadata": {},
     "output_type": "execute_result"
    }
   ],
   "source": [
    "y"
   ]
  },
  {
   "cell_type": "code",
   "execution_count": 22,
   "id": "9935c5ea",
   "metadata": {},
   "outputs": [
    {
     "name": "stdout",
     "output_type": "stream",
     "text": [
      "40\n",
      "20\n",
      "80\n",
      "50\n",
      "30\n",
      "60\n",
      "90\n"
     ]
    }
   ],
   "source": [
    "for i in y:\n",
    "    print(i)"
   ]
  },
  {
   "cell_type": "code",
   "execution_count": 24,
   "id": "a96883d8",
   "metadata": {},
   "outputs": [
    {
     "data": {
      "text/plain": [
       "[2, 4, 7, 8, 9]"
      ]
     },
     "execution_count": 24,
     "metadata": {},
     "output_type": "execute_result"
    }
   ],
   "source": [
    "y=[2,4,7,8,9]\n",
    "y"
   ]
  },
  {
   "cell_type": "code",
   "execution_count": 38,
   "id": "972543a5",
   "metadata": {},
   "outputs": [],
   "source": [
    "g=[1,2,3,4]  "
   ]
  },
  {
   "cell_type": "code",
   "execution_count": 39,
   "id": "1d650b5c",
   "metadata": {},
   "outputs": [
    {
     "data": {
      "text/plain": [
       "[1, 2, 3, 4]"
      ]
     },
     "execution_count": 39,
     "metadata": {},
     "output_type": "execute_result"
    }
   ],
   "source": [
    "g"
   ]
  },
  {
   "cell_type": "code",
   "execution_count": 40,
   "id": "93c7b532",
   "metadata": {},
   "outputs": [],
   "source": [
    "z=[]\n",
    "for i in g:\n",
    "    z.append(i*5+10)"
   ]
  },
  {
   "cell_type": "code",
   "execution_count": 41,
   "id": "45db25f2",
   "metadata": {},
   "outputs": [
    {
     "data": {
      "text/plain": [
       "[15, 20, 25, 30]"
      ]
     },
     "execution_count": 41,
     "metadata": {},
     "output_type": "execute_result"
    }
   ],
   "source": [
    "z"
   ]
  },
  {
   "cell_type": "code",
   "execution_count": 42,
   "id": "e5b27fb5",
   "metadata": {},
   "outputs": [
    {
     "data": {
      "text/plain": [
       "[31, 45, 66, 90, 78, 67, 87, 89, 93, 25, 59, 9, 81]"
      ]
     },
     "execution_count": 42,
     "metadata": {},
     "output_type": "execute_result"
    }
   ],
   "source": [
    "num=[31,45,66,90,78,67,87,89,93,25,59,9,81]\n",
    "num"
   ]
  },
  {
   "cell_type": "code",
   "execution_count": 47,
   "id": "a27967fe",
   "metadata": {},
   "outputs": [],
   "source": [
    "even=[]\n",
    "odd=[]\n",
    "for i in num:\n",
    "    if(i%2)==0:\n",
    "        even.append(i)\n",
    "    else:\n",
    "        odd.append(i)"
   ]
  },
  {
   "cell_type": "code",
   "execution_count": 48,
   "id": "ab94c92e",
   "metadata": {},
   "outputs": [
    {
     "data": {
      "text/plain": [
       "[66, 90, 78]"
      ]
     },
     "execution_count": 48,
     "metadata": {},
     "output_type": "execute_result"
    }
   ],
   "source": [
    "even"
   ]
  },
  {
   "cell_type": "code",
   "execution_count": 49,
   "id": "73e9c6f9",
   "metadata": {},
   "outputs": [
    {
     "data": {
      "text/plain": [
       "[31, 45, 67, 87, 89, 93, 25, 59, 9, 81]"
      ]
     },
     "execution_count": 49,
     "metadata": {},
     "output_type": "execute_result"
    }
   ],
   "source": [
    "odd"
   ]
  },
  {
   "cell_type": "code",
   "execution_count": 50,
   "id": "64c61e79",
   "metadata": {},
   "outputs": [
    {
     "data": {
      "text/plain": [
       "[10, 20, -10, -9, -8, -66, 19]"
      ]
     },
     "execution_count": 50,
     "metadata": {},
     "output_type": "execute_result"
    }
   ],
   "source": [
    "d=[10,20,-10,-9,-8,-66,19]\n",
    "d"
   ]
  },
  {
   "cell_type": "code",
   "execution_count": 56,
   "id": "d05cb8cb",
   "metadata": {},
   "outputs": [],
   "source": [
    "k=[]\n",
    "f=[]\n",
    "for i in d:\n",
    "    if(i>0):\n",
    "        k.append(i)\n",
    "    else:\n",
    "        f.append(i)"
   ]
  },
  {
   "cell_type": "code",
   "execution_count": 52,
   "id": "eadf3fd1",
   "metadata": {},
   "outputs": [
    {
     "data": {
      "text/plain": [
       "[10, 20, 19]"
      ]
     },
     "execution_count": 52,
     "metadata": {},
     "output_type": "execute_result"
    }
   ],
   "source": [
    "k\n"
   ]
  },
  {
   "cell_type": "code",
   "execution_count": 53,
   "id": "1e5b8638",
   "metadata": {},
   "outputs": [
    {
     "data": {
      "text/plain": [
       "[-10, -9, -8, -66]"
      ]
     },
     "execution_count": 53,
     "metadata": {},
     "output_type": "execute_result"
    }
   ],
   "source": [
    "f"
   ]
  },
  {
   "cell_type": "code",
   "execution_count": 54,
   "id": "2ae720f6",
   "metadata": {},
   "outputs": [
    {
     "data": {
      "text/plain": [
       "[31, 45, 66, 90, 78, 67, 87, 89, 93, 25, 59, 9, 81]"
      ]
     },
     "execution_count": 54,
     "metadata": {},
     "output_type": "execute_result"
    }
   ],
   "source": [
    "num"
   ]
  },
  {
   "cell_type": "code",
   "execution_count": 58,
   "id": "6969abd1",
   "metadata": {},
   "outputs": [],
   "source": [
    "num[num.index(78)] = 75\n",
    "num[num.index(87)] = 57\n",
    "num[num.index(89)] = 59 \n",
    "num[num.index(81)] = 51"
   ]
  },
  {
   "cell_type": "code",
   "execution_count": 59,
   "id": "db48ac8b",
   "metadata": {},
   "outputs": [
    {
     "name": "stdout",
     "output_type": "stream",
     "text": [
      "[31, 45, 66, 90, 75, 67, 57, 59, 93, 25, 59, 9, 51]\n"
     ]
    }
   ],
   "source": [
    "print(num)"
   ]
  },
  {
   "cell_type": "code",
   "execution_count": 61,
   "id": "9f92cb50",
   "metadata": {},
   "outputs": [
    {
     "data": {
      "text/plain": [
       "[31, 45, 66, 90, 78, 67, 87, 89, 93, 25, 59, 9, 81]"
      ]
     },
     "execution_count": 61,
     "metadata": {},
     "output_type": "execute_result"
    }
   ],
   "source": [
    "num=[31,45,66,90,78,67,87,89,93,25,59,9,81]\n",
    "num"
   ]
  },
  {
   "cell_type": "code",
   "execution_count": 62,
   "id": "d49204b3",
   "metadata": {},
   "outputs": [],
   "source": [
    "h=[]\n",
    "for i in num:\n",
    "    a=str(i)\n",
    "    b=a.replace('8','5')\n",
    "    c=int(b)\n",
    "    h.append(c)"
   ]
  },
  {
   "cell_type": "code",
   "execution_count": 63,
   "id": "f8272d4a",
   "metadata": {},
   "outputs": [
    {
     "data": {
      "text/plain": [
       "[31, 45, 66, 90, 75, 67, 57, 59, 93, 25, 59, 9, 51]"
      ]
     },
     "execution_count": 63,
     "metadata": {},
     "output_type": "execute_result"
    }
   ],
   "source": [
    "h"
   ]
  },
  {
   "cell_type": "code",
   "execution_count": 64,
   "id": "0abb6156",
   "metadata": {},
   "outputs": [
    {
     "data": {
      "text/plain": [
       "'4'"
      ]
     },
     "execution_count": 64,
     "metadata": {},
     "output_type": "execute_result"
    }
   ],
   "source": [
    "a=4\n",
    "b=str(a)\n",
    "b"
   ]
  },
  {
   "cell_type": "code",
   "execution_count": 65,
   "id": "e8bc5215",
   "metadata": {},
   "outputs": [
    {
     "data": {
      "text/plain": [
       "'SolutiOns'"
      ]
     },
     "execution_count": 65,
     "metadata": {},
     "output_type": "execute_result"
    }
   ],
   "source": [
    "\"SolutiOns\"\n",
    "#the out is \"lutin\""
   ]
  },
  {
   "cell_type": "code",
   "execution_count": 69,
   "id": "65fc1c70",
   "metadata": {},
   "outputs": [],
   "source": [
    "x=\"SolutiOns\"\n",
    "y=\"\"\n",
    "\n",
    "for i in x:\n",
    "    if i.lower() not in ('s','o'):\n",
    "        y+=i"
   ]
  },
  {
   "cell_type": "code",
   "execution_count": 70,
   "id": "2a0934b8",
   "metadata": {},
   "outputs": [
    {
     "data": {
      "text/plain": [
       "'lutin'"
      ]
     },
     "execution_count": 70,
     "metadata": {},
     "output_type": "execute_result"
    }
   ],
   "source": [
    "y\n",
    "    "
   ]
  },
  {
   "cell_type": "code",
   "execution_count": null,
   "id": "76a8e300",
   "metadata": {},
   "outputs": [],
   "source": []
  }
 ],
 "metadata": {
  "kernelspec": {
   "display_name": "Python 3 (ipykernel)",
   "language": "python",
   "name": "python3"
  },
  "language_info": {
   "codemirror_mode": {
    "name": "ipython",
    "version": 3
   },
   "file_extension": ".py",
   "mimetype": "text/x-python",
   "name": "python",
   "nbconvert_exporter": "python",
   "pygments_lexer": "ipython3",
   "version": "3.11.5"
  }
 },
 "nbformat": 4,
 "nbformat_minor": 5
}
