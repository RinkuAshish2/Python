{
 "cells": [
  {
   "cell_type": "markdown",
   "id": "58cdd71e",
   "metadata": {},
   "source": [
    "## Association Rule\n"
   ]
  },
  {
   "cell_type": "code",
   "execution_count": 1,
   "id": "ee2972a3",
   "metadata": {},
   "outputs": [],
   "source": [
    "#-->>Example we buyying the phone in the flipkart it shows \n",
    "#the related products like charger,phone cover,etc is called\n",
    "#AR "
   ]
  },
  {
   "cell_type": "code",
   "execution_count": null,
   "id": "203cb1fe",
   "metadata": {},
   "outputs": [],
   "source": []
  },
  {
   "cell_type": "code",
   "execution_count": 2,
   "id": "b23ae41c",
   "metadata": {},
   "outputs": [
    {
     "name": "stdout",
     "output_type": "stream",
     "text": [
      "Requirement already satisfied: mlxtend in c:\\users\\yella\\anaconda3\\lib\\site-packages (0.23.4)\n",
      "Requirement already satisfied: scipy>=1.2.1 in c:\\users\\yella\\anaconda3\\lib\\site-packages (from mlxtend) (1.11.1)\n",
      "Requirement already satisfied: numpy>=1.16.2 in c:\\users\\yella\\anaconda3\\lib\\site-packages (from mlxtend) (1.24.3)\n",
      "Requirement already satisfied: pandas>=0.24.2 in c:\\users\\yella\\anaconda3\\lib\\site-packages (from mlxtend) (2.0.3)\n",
      "Requirement already satisfied: scikit-learn>=1.3.1 in c:\\users\\yella\\anaconda3\\lib\\site-packages (from mlxtend) (1.6.1)\n",
      "Requirement already satisfied: matplotlib>=3.0.0 in c:\\users\\yella\\anaconda3\\lib\\site-packages (from mlxtend) (3.7.2)\n",
      "Requirement already satisfied: joblib>=0.13.2 in c:\\users\\yella\\anaconda3\\lib\\site-packages (from mlxtend) (1.2.0)\n",
      "Requirement already satisfied: contourpy>=1.0.1 in c:\\users\\yella\\anaconda3\\lib\\site-packages (from matplotlib>=3.0.0->mlxtend) (1.0.5)\n",
      "Requirement already satisfied: cycler>=0.10 in c:\\users\\yella\\anaconda3\\lib\\site-packages (from matplotlib>=3.0.0->mlxtend) (0.11.0)\n",
      "Requirement already satisfied: fonttools>=4.22.0 in c:\\users\\yella\\anaconda3\\lib\\site-packages (from matplotlib>=3.0.0->mlxtend) (4.25.0)\n",
      "Requirement already satisfied: kiwisolver>=1.0.1 in c:\\users\\yella\\anaconda3\\lib\\site-packages (from matplotlib>=3.0.0->mlxtend) (1.4.4)\n",
      "Requirement already satisfied: packaging>=20.0 in c:\\users\\yella\\anaconda3\\lib\\site-packages (from matplotlib>=3.0.0->mlxtend) (23.1)\n",
      "Requirement already satisfied: pillow>=6.2.0 in c:\\users\\yella\\anaconda3\\lib\\site-packages (from matplotlib>=3.0.0->mlxtend) (9.4.0)\n",
      "Requirement already satisfied: pyparsing<3.1,>=2.3.1 in c:\\users\\yella\\anaconda3\\lib\\site-packages (from matplotlib>=3.0.0->mlxtend) (3.0.9)\n",
      "Requirement already satisfied: python-dateutil>=2.7 in c:\\users\\yella\\anaconda3\\lib\\site-packages (from matplotlib>=3.0.0->mlxtend) (2.8.2)\n",
      "Requirement already satisfied: pytz>=2020.1 in c:\\users\\yella\\anaconda3\\lib\\site-packages (from pandas>=0.24.2->mlxtend) (2023.3.post1)\n",
      "Requirement already satisfied: tzdata>=2022.1 in c:\\users\\yella\\anaconda3\\lib\\site-packages (from pandas>=0.24.2->mlxtend) (2023.3)\n",
      "Requirement already satisfied: threadpoolctl>=3.1.0 in c:\\users\\yella\\anaconda3\\lib\\site-packages (from scikit-learn>=1.3.1->mlxtend) (3.5.0)\n",
      "Requirement already satisfied: six>=1.5 in c:\\users\\yella\\anaconda3\\lib\\site-packages (from python-dateutil>=2.7->matplotlib>=3.0.0->mlxtend) (1.16.0)\n"
     ]
    }
   ],
   "source": [
    "!pip install  mlxtend"
   ]
  },
  {
   "cell_type": "code",
   "execution_count": 3,
   "id": "570550f9",
   "metadata": {},
   "outputs": [],
   "source": [
    "import numpy as np\n",
    "import pandas as pd\n",
    "from mlxtend.frequent_patterns import apriori \n",
    "from mlxtend.frequent_patterns import association_rules\n",
    "import warnings\n",
    "warnings.filterwarnings('ignore')"
   ]
  },
  {
   "cell_type": "code",
   "execution_count": 4,
   "id": "11702e1c",
   "metadata": {},
   "outputs": [
    {
     "data": {
      "text/html": [
       "<div>\n",
       "<style scoped>\n",
       "    .dataframe tbody tr th:only-of-type {\n",
       "        vertical-align: middle;\n",
       "    }\n",
       "\n",
       "    .dataframe tbody tr th {\n",
       "        vertical-align: top;\n",
       "    }\n",
       "\n",
       "    .dataframe thead th {\n",
       "        text-align: right;\n",
       "    }\n",
       "</style>\n",
       "<table border=\"1\" class=\"dataframe\">\n",
       "  <thead>\n",
       "    <tr style=\"text-align: right;\">\n",
       "      <th></th>\n",
       "      <th>Class</th>\n",
       "      <th>Gender</th>\n",
       "      <th>Age</th>\n",
       "      <th>Survived</th>\n",
       "    </tr>\n",
       "  </thead>\n",
       "  <tbody>\n",
       "    <tr>\n",
       "      <th>0</th>\n",
       "      <td>3rd</td>\n",
       "      <td>Male</td>\n",
       "      <td>Child</td>\n",
       "      <td>No</td>\n",
       "    </tr>\n",
       "    <tr>\n",
       "      <th>1</th>\n",
       "      <td>3rd</td>\n",
       "      <td>Male</td>\n",
       "      <td>Child</td>\n",
       "      <td>No</td>\n",
       "    </tr>\n",
       "    <tr>\n",
       "      <th>2</th>\n",
       "      <td>3rd</td>\n",
       "      <td>Male</td>\n",
       "      <td>Child</td>\n",
       "      <td>No</td>\n",
       "    </tr>\n",
       "    <tr>\n",
       "      <th>3</th>\n",
       "      <td>3rd</td>\n",
       "      <td>Male</td>\n",
       "      <td>Child</td>\n",
       "      <td>No</td>\n",
       "    </tr>\n",
       "    <tr>\n",
       "      <th>4</th>\n",
       "      <td>3rd</td>\n",
       "      <td>Male</td>\n",
       "      <td>Child</td>\n",
       "      <td>No</td>\n",
       "    </tr>\n",
       "  </tbody>\n",
       "</table>\n",
       "</div>"
      ],
      "text/plain": [
       "  Class Gender    Age Survived\n",
       "0   3rd   Male  Child       No\n",
       "1   3rd   Male  Child       No\n",
       "2   3rd   Male  Child       No\n",
       "3   3rd   Male  Child       No\n",
       "4   3rd   Male  Child       No"
      ]
     },
     "execution_count": 4,
     "metadata": {},
     "output_type": "execute_result"
    }
   ],
   "source": [
    "titanic=pd.read_csv(r\"C:\\Users\\yella\\Desktop\\Titanic.csv\")\n",
    "titanic.head()"
   ]
  },
  {
   "cell_type": "code",
   "execution_count": 5,
   "id": "2dcd5622",
   "metadata": {},
   "outputs": [],
   "source": [
    "#The get_dummies method is a powerful tool for encoding categorical variables into numerical\n",
    "#representations, specifically using one-hot encoding.\n",
    "#label encoding-->>"
   ]
  },
  {
   "cell_type": "code",
   "execution_count": 6,
   "id": "cd28b7cb",
   "metadata": {},
   "outputs": [
    {
     "data": {
      "text/plain": [
       "Class       0\n",
       "Gender      0\n",
       "Age         0\n",
       "Survived    0\n",
       "dtype: int64"
      ]
     },
     "execution_count": 6,
     "metadata": {},
     "output_type": "execute_result"
    }
   ],
   "source": [
    "titanic.isnull().sum()"
   ]
  },
  {
   "cell_type": "code",
   "execution_count": 7,
   "id": "e2e27777",
   "metadata": {},
   "outputs": [
    {
     "data": {
      "text/plain": [
       "array(['Male', 'Female'], dtype=object)"
      ]
     },
     "execution_count": 7,
     "metadata": {},
     "output_type": "execute_result"
    }
   ],
   "source": [
    "titanic['Gender'].unique()  # for checking the unique values"
   ]
  },
  {
   "cell_type": "code",
   "execution_count": 8,
   "id": "75a3ecb9",
   "metadata": {},
   "outputs": [
    {
     "data": {
      "text/html": [
       "<div>\n",
       "<style scoped>\n",
       "    .dataframe tbody tr th:only-of-type {\n",
       "        vertical-align: middle;\n",
       "    }\n",
       "\n",
       "    .dataframe tbody tr th {\n",
       "        vertical-align: top;\n",
       "    }\n",
       "\n",
       "    .dataframe thead th {\n",
       "        text-align: right;\n",
       "    }\n",
       "</style>\n",
       "<table border=\"1\" class=\"dataframe\">\n",
       "  <thead>\n",
       "    <tr style=\"text-align: right;\">\n",
       "      <th></th>\n",
       "      <th>Class</th>\n",
       "      <th>Gender</th>\n",
       "      <th>Age</th>\n",
       "      <th>Survived</th>\n",
       "    </tr>\n",
       "  </thead>\n",
       "  <tbody>\n",
       "    <tr>\n",
       "      <th>count</th>\n",
       "      <td>2201</td>\n",
       "      <td>2201</td>\n",
       "      <td>2201</td>\n",
       "      <td>2201</td>\n",
       "    </tr>\n",
       "    <tr>\n",
       "      <th>unique</th>\n",
       "      <td>4</td>\n",
       "      <td>2</td>\n",
       "      <td>2</td>\n",
       "      <td>2</td>\n",
       "    </tr>\n",
       "    <tr>\n",
       "      <th>top</th>\n",
       "      <td>Crew</td>\n",
       "      <td>Male</td>\n",
       "      <td>Adult</td>\n",
       "      <td>No</td>\n",
       "    </tr>\n",
       "    <tr>\n",
       "      <th>freq</th>\n",
       "      <td>885</td>\n",
       "      <td>1731</td>\n",
       "      <td>2092</td>\n",
       "      <td>1490</td>\n",
       "    </tr>\n",
       "  </tbody>\n",
       "</table>\n",
       "</div>"
      ],
      "text/plain": [
       "       Class Gender    Age Survived\n",
       "count   2201   2201   2201     2201\n",
       "unique     4      2      2        2\n",
       "top     Crew   Male  Adult       No\n",
       "freq     885   1731   2092     1490"
      ]
     },
     "execution_count": 8,
     "metadata": {},
     "output_type": "execute_result"
    }
   ],
   "source": [
    "titanic.describe()"
   ]
  },
  {
   "cell_type": "code",
   "execution_count": 9,
   "id": "f09b5e3e",
   "metadata": {},
   "outputs": [
    {
     "data": {
      "text/plain": [
       "(2201, 4)"
      ]
     },
     "execution_count": 9,
     "metadata": {},
     "output_type": "execute_result"
    }
   ],
   "source": [
    "titanic.shape"
   ]
  },
  {
   "cell_type": "code",
   "execution_count": 10,
   "id": "94f81028",
   "metadata": {},
   "outputs": [
    {
     "name": "stdout",
     "output_type": "stream",
     "text": [
      "<class 'pandas.core.frame.DataFrame'>\n",
      "RangeIndex: 2201 entries, 0 to 2200\n",
      "Data columns (total 4 columns):\n",
      " #   Column    Non-Null Count  Dtype \n",
      "---  ------    --------------  ----- \n",
      " 0   Class     2201 non-null   object\n",
      " 1   Gender    2201 non-null   object\n",
      " 2   Age       2201 non-null   object\n",
      " 3   Survived  2201 non-null   object\n",
      "dtypes: object(4)\n",
      "memory usage: 68.9+ KB\n"
     ]
    }
   ],
   "source": [
    "titanic.info()"
   ]
  },
  {
   "cell_type": "code",
   "execution_count": 11,
   "id": "9b1cd057",
   "metadata": {},
   "outputs": [
    {
     "data": {
      "text/html": [
       "<div>\n",
       "<style scoped>\n",
       "    .dataframe tbody tr th:only-of-type {\n",
       "        vertical-align: middle;\n",
       "    }\n",
       "\n",
       "    .dataframe tbody tr th {\n",
       "        vertical-align: top;\n",
       "    }\n",
       "\n",
       "    .dataframe thead th {\n",
       "        text-align: right;\n",
       "    }\n",
       "</style>\n",
       "<table border=\"1\" class=\"dataframe\">\n",
       "  <thead>\n",
       "    <tr style=\"text-align: right;\">\n",
       "      <th></th>\n",
       "      <th>Class_1st</th>\n",
       "      <th>Class_2nd</th>\n",
       "      <th>Class_3rd</th>\n",
       "      <th>Class_Crew</th>\n",
       "      <th>Gender_Female</th>\n",
       "      <th>Gender_Male</th>\n",
       "      <th>Age_Adult</th>\n",
       "      <th>Age_Child</th>\n",
       "      <th>Survived_No</th>\n",
       "      <th>Survived_Yes</th>\n",
       "    </tr>\n",
       "  </thead>\n",
       "  <tbody>\n",
       "    <tr>\n",
       "      <th>0</th>\n",
       "      <td>0</td>\n",
       "      <td>0</td>\n",
       "      <td>1</td>\n",
       "      <td>0</td>\n",
       "      <td>0</td>\n",
       "      <td>1</td>\n",
       "      <td>0</td>\n",
       "      <td>1</td>\n",
       "      <td>1</td>\n",
       "      <td>0</td>\n",
       "    </tr>\n",
       "    <tr>\n",
       "      <th>1</th>\n",
       "      <td>0</td>\n",
       "      <td>0</td>\n",
       "      <td>1</td>\n",
       "      <td>0</td>\n",
       "      <td>0</td>\n",
       "      <td>1</td>\n",
       "      <td>0</td>\n",
       "      <td>1</td>\n",
       "      <td>1</td>\n",
       "      <td>0</td>\n",
       "    </tr>\n",
       "    <tr>\n",
       "      <th>2</th>\n",
       "      <td>0</td>\n",
       "      <td>0</td>\n",
       "      <td>1</td>\n",
       "      <td>0</td>\n",
       "      <td>0</td>\n",
       "      <td>1</td>\n",
       "      <td>0</td>\n",
       "      <td>1</td>\n",
       "      <td>1</td>\n",
       "      <td>0</td>\n",
       "    </tr>\n",
       "    <tr>\n",
       "      <th>3</th>\n",
       "      <td>0</td>\n",
       "      <td>0</td>\n",
       "      <td>1</td>\n",
       "      <td>0</td>\n",
       "      <td>0</td>\n",
       "      <td>1</td>\n",
       "      <td>0</td>\n",
       "      <td>1</td>\n",
       "      <td>1</td>\n",
       "      <td>0</td>\n",
       "    </tr>\n",
       "    <tr>\n",
       "      <th>4</th>\n",
       "      <td>0</td>\n",
       "      <td>0</td>\n",
       "      <td>1</td>\n",
       "      <td>0</td>\n",
       "      <td>0</td>\n",
       "      <td>1</td>\n",
       "      <td>0</td>\n",
       "      <td>1</td>\n",
       "      <td>1</td>\n",
       "      <td>0</td>\n",
       "    </tr>\n",
       "  </tbody>\n",
       "</table>\n",
       "</div>"
      ],
      "text/plain": [
       "   Class_1st  Class_2nd  Class_3rd  Class_Crew  Gender_Female  Gender_Male  \\\n",
       "0          0          0          1           0              0            1   \n",
       "1          0          0          1           0              0            1   \n",
       "2          0          0          1           0              0            1   \n",
       "3          0          0          1           0              0            1   \n",
       "4          0          0          1           0              0            1   \n",
       "\n",
       "   Age_Adult  Age_Child  Survived_No  Survived_Yes  \n",
       "0          0          1            1             0  \n",
       "1          0          1            1             0  \n",
       "2          0          1            1             0  \n",
       "3          0          1            1             0  \n",
       "4          0          1            1             0  "
      ]
     },
     "execution_count": 11,
     "metadata": {},
     "output_type": "execute_result"
    }
   ],
   "source": [
    "df=pd.get_dummies(titanic,dtype='int')\n",
    "df.head()"
   ]
  },
  {
   "cell_type": "code",
   "execution_count": null,
   "id": "019755a2",
   "metadata": {},
   "outputs": [],
   "source": []
  },
  {
   "cell_type": "code",
   "execution_count": null,
   "id": "193a5c90",
   "metadata": {},
   "outputs": [],
   "source": []
  },
  {
   "cell_type": "markdown",
   "id": "310e7eea",
   "metadata": {},
   "source": [
    "# Appriori Algorithm"
   ]
  },
  {
   "cell_type": "code",
   "execution_count": 21,
   "id": "2bedb3cc",
   "metadata": {},
   "outputs": [
    {
     "data": {
      "text/html": [
       "<div>\n",
       "<style scoped>\n",
       "    .dataframe tbody tr th:only-of-type {\n",
       "        vertical-align: middle;\n",
       "    }\n",
       "\n",
       "    .dataframe tbody tr th {\n",
       "        vertical-align: top;\n",
       "    }\n",
       "\n",
       "    .dataframe thead th {\n",
       "        text-align: right;\n",
       "    }\n",
       "</style>\n",
       "<table border=\"1\" class=\"dataframe\">\n",
       "  <thead>\n",
       "    <tr style=\"text-align: right;\">\n",
       "      <th></th>\n",
       "      <th>support</th>\n",
       "      <th>itemsets</th>\n",
       "    </tr>\n",
       "  </thead>\n",
       "  <tbody>\n",
       "    <tr>\n",
       "      <th>0</th>\n",
       "      <td>0.320763</td>\n",
       "      <td>(Class_3rd)</td>\n",
       "    </tr>\n",
       "    <tr>\n",
       "      <th>1</th>\n",
       "      <td>0.402090</td>\n",
       "      <td>(Class_Crew)</td>\n",
       "    </tr>\n",
       "    <tr>\n",
       "      <th>2</th>\n",
       "      <td>0.786461</td>\n",
       "      <td>(Gender_Male)</td>\n",
       "    </tr>\n",
       "    <tr>\n",
       "      <th>3</th>\n",
       "      <td>0.950477</td>\n",
       "      <td>(Age_Adult)</td>\n",
       "    </tr>\n",
       "    <tr>\n",
       "      <th>4</th>\n",
       "      <td>0.676965</td>\n",
       "      <td>(Survived_No)</td>\n",
       "    </tr>\n",
       "    <tr>\n",
       "      <th>5</th>\n",
       "      <td>0.323035</td>\n",
       "      <td>(Survived_Yes)</td>\n",
       "    </tr>\n",
       "    <tr>\n",
       "      <th>6</th>\n",
       "      <td>0.391640</td>\n",
       "      <td>(Gender_Male, Class_Crew)</td>\n",
       "    </tr>\n",
       "    <tr>\n",
       "      <th>7</th>\n",
       "      <td>0.402090</td>\n",
       "      <td>(Age_Adult, Class_Crew)</td>\n",
       "    </tr>\n",
       "    <tr>\n",
       "      <th>8</th>\n",
       "      <td>0.305770</td>\n",
       "      <td>(Survived_No, Class_Crew)</td>\n",
       "    </tr>\n",
       "    <tr>\n",
       "      <th>9</th>\n",
       "      <td>0.757383</td>\n",
       "      <td>(Gender_Male, Age_Adult)</td>\n",
       "    </tr>\n",
       "  </tbody>\n",
       "</table>\n",
       "</div>"
      ],
      "text/plain": [
       "    support                   itemsets\n",
       "0  0.320763                (Class_3rd)\n",
       "1  0.402090               (Class_Crew)\n",
       "2  0.786461              (Gender_Male)\n",
       "3  0.950477                (Age_Adult)\n",
       "4  0.676965              (Survived_No)\n",
       "5  0.323035             (Survived_Yes)\n",
       "6  0.391640  (Gender_Male, Class_Crew)\n",
       "7  0.402090    (Age_Adult, Class_Crew)\n",
       "8  0.305770  (Survived_No, Class_Crew)\n",
       "9  0.757383   (Gender_Male, Age_Adult)"
      ]
     },
     "execution_count": 21,
     "metadata": {},
     "output_type": "execute_result"
    }
   ],
   "source": [
    "frequent_itemsets=apriori(df,min_support=0.3, use_colnames=True)\n",
    "frequent_itemsets.head(10)"
   ]
  },
  {
   "cell_type": "code",
   "execution_count": 22,
   "id": "9fd5b9ee",
   "metadata": {},
   "outputs": [
    {
     "data": {
      "text/plain": [
       "pandas.core.frame.DataFrame"
      ]
     },
     "execution_count": 22,
     "metadata": {},
     "output_type": "execute_result"
    }
   ],
   "source": [
    "type(frequent_itemsets)"
   ]
  },
  {
   "cell_type": "code",
   "execution_count": null,
   "id": "a1c94293",
   "metadata": {},
   "outputs": [],
   "source": []
  },
  {
   "cell_type": "code",
   "execution_count": 41,
   "id": "cdd17932",
   "metadata": {},
   "outputs": [],
   "source": [
    "rules = association_rules(frequent_itemsets, metric=\"lift\", min_threshold=1, num_itemsets = len(frequent_itemsets))"
   ]
  },
  {
   "cell_type": "code",
   "execution_count": 42,
   "id": "1021e3ef",
   "metadata": {},
   "outputs": [
    {
     "data": {
      "text/html": [
       "<div>\n",
       "<style scoped>\n",
       "    .dataframe tbody tr th:only-of-type {\n",
       "        vertical-align: middle;\n",
       "    }\n",
       "\n",
       "    .dataframe tbody tr th {\n",
       "        vertical-align: top;\n",
       "    }\n",
       "\n",
       "    .dataframe thead th {\n",
       "        text-align: right;\n",
       "    }\n",
       "</style>\n",
       "<table border=\"1\" class=\"dataframe\">\n",
       "  <thead>\n",
       "    <tr style=\"text-align: right;\">\n",
       "      <th></th>\n",
       "      <th>antecedents</th>\n",
       "      <th>consequents</th>\n",
       "      <th>antecedent support</th>\n",
       "      <th>consequent support</th>\n",
       "      <th>support</th>\n",
       "      <th>confidence</th>\n",
       "      <th>lift</th>\n",
       "      <th>representativity</th>\n",
       "      <th>leverage</th>\n",
       "      <th>conviction</th>\n",
       "      <th>zhangs_metric</th>\n",
       "      <th>jaccard</th>\n",
       "      <th>certainty</th>\n",
       "      <th>kulczynski</th>\n",
       "    </tr>\n",
       "  </thead>\n",
       "  <tbody>\n",
       "    <tr>\n",
       "      <th>0</th>\n",
       "      <td>(Gender_Male)</td>\n",
       "      <td>(Class_Crew)</td>\n",
       "      <td>0.786461</td>\n",
       "      <td>0.402090</td>\n",
       "      <td>0.39164</td>\n",
       "      <td>0.497978</td>\n",
       "      <td>1.238474</td>\n",
       "      <td>1.0</td>\n",
       "      <td>0.075412</td>\n",
       "      <td>1.191004</td>\n",
       "      <td>0.901730</td>\n",
       "      <td>0.491448</td>\n",
       "      <td>0.160372</td>\n",
       "      <td>0.735995</td>\n",
       "    </tr>\n",
       "    <tr>\n",
       "      <th>1</th>\n",
       "      <td>(Class_Crew)</td>\n",
       "      <td>(Gender_Male)</td>\n",
       "      <td>0.402090</td>\n",
       "      <td>0.786461</td>\n",
       "      <td>0.39164</td>\n",
       "      <td>0.974011</td>\n",
       "      <td>1.238474</td>\n",
       "      <td>1.0</td>\n",
       "      <td>0.075412</td>\n",
       "      <td>8.216621</td>\n",
       "      <td>0.322047</td>\n",
       "      <td>0.491448</td>\n",
       "      <td>0.878295</td>\n",
       "      <td>0.735995</td>\n",
       "    </tr>\n",
       "    <tr>\n",
       "      <th>2</th>\n",
       "      <td>(Age_Adult)</td>\n",
       "      <td>(Class_Crew)</td>\n",
       "      <td>0.950477</td>\n",
       "      <td>0.402090</td>\n",
       "      <td>0.40209</td>\n",
       "      <td>0.423040</td>\n",
       "      <td>1.052103</td>\n",
       "      <td>1.0</td>\n",
       "      <td>0.019913</td>\n",
       "      <td>1.036311</td>\n",
       "      <td>1.000000</td>\n",
       "      <td>0.423040</td>\n",
       "      <td>0.035039</td>\n",
       "      <td>0.711520</td>\n",
       "    </tr>\n",
       "    <tr>\n",
       "      <th>3</th>\n",
       "      <td>(Class_Crew)</td>\n",
       "      <td>(Age_Adult)</td>\n",
       "      <td>0.402090</td>\n",
       "      <td>0.950477</td>\n",
       "      <td>0.40209</td>\n",
       "      <td>1.000000</td>\n",
       "      <td>1.052103</td>\n",
       "      <td>1.0</td>\n",
       "      <td>0.019913</td>\n",
       "      <td>inf</td>\n",
       "      <td>0.082827</td>\n",
       "      <td>0.423040</td>\n",
       "      <td>1.000000</td>\n",
       "      <td>0.711520</td>\n",
       "    </tr>\n",
       "    <tr>\n",
       "      <th>4</th>\n",
       "      <td>(Survived_No)</td>\n",
       "      <td>(Class_Crew)</td>\n",
       "      <td>0.676965</td>\n",
       "      <td>0.402090</td>\n",
       "      <td>0.30577</td>\n",
       "      <td>0.451678</td>\n",
       "      <td>1.123325</td>\n",
       "      <td>1.0</td>\n",
       "      <td>0.033569</td>\n",
       "      <td>1.090436</td>\n",
       "      <td>0.339858</td>\n",
       "      <td>0.395417</td>\n",
       "      <td>0.082935</td>\n",
       "      <td>0.606065</td>\n",
       "    </tr>\n",
       "  </tbody>\n",
       "</table>\n",
       "</div>"
      ],
      "text/plain": [
       "     antecedents    consequents  antecedent support  consequent support  \\\n",
       "0  (Gender_Male)   (Class_Crew)            0.786461            0.402090   \n",
       "1   (Class_Crew)  (Gender_Male)            0.402090            0.786461   \n",
       "2    (Age_Adult)   (Class_Crew)            0.950477            0.402090   \n",
       "3   (Class_Crew)    (Age_Adult)            0.402090            0.950477   \n",
       "4  (Survived_No)   (Class_Crew)            0.676965            0.402090   \n",
       "\n",
       "   support  confidence      lift  representativity  leverage  conviction  \\\n",
       "0  0.39164    0.497978  1.238474               1.0  0.075412    1.191004   \n",
       "1  0.39164    0.974011  1.238474               1.0  0.075412    8.216621   \n",
       "2  0.40209    0.423040  1.052103               1.0  0.019913    1.036311   \n",
       "3  0.40209    1.000000  1.052103               1.0  0.019913         inf   \n",
       "4  0.30577    0.451678  1.123325               1.0  0.033569    1.090436   \n",
       "\n",
       "   zhangs_metric   jaccard  certainty  kulczynski  \n",
       "0       0.901730  0.491448   0.160372    0.735995  \n",
       "1       0.322047  0.491448   0.878295    0.735995  \n",
       "2       1.000000  0.423040   0.035039    0.711520  \n",
       "3       0.082827  0.423040   1.000000    0.711520  \n",
       "4       0.339858  0.395417   0.082935    0.606065  "
      ]
     },
     "execution_count": 42,
     "metadata": {},
     "output_type": "execute_result"
    }
   ],
   "source": [
    "rules.head()"
   ]
  },
  {
   "cell_type": "code",
   "execution_count": null,
   "id": "18e204ea",
   "metadata": {},
   "outputs": [],
   "source": []
  },
  {
   "cell_type": "code",
   "execution_count": null,
   "id": "9e026555",
   "metadata": {},
   "outputs": [],
   "source": []
  },
  {
   "cell_type": "code",
   "execution_count": null,
   "id": "d20f4d9b",
   "metadata": {},
   "outputs": [],
   "source": []
  },
  {
   "cell_type": "code",
   "execution_count": null,
   "id": "490a2603",
   "metadata": {},
   "outputs": [],
   "source": []
  }
 ],
 "metadata": {
  "kernelspec": {
   "display_name": "Python 3 (ipykernel)",
   "language": "python",
   "name": "python3"
  },
  "language_info": {
   "codemirror_mode": {
    "name": "ipython",
    "version": 3
   },
   "file_extension": ".py",
   "mimetype": "text/x-python",
   "name": "python",
   "nbconvert_exporter": "python",
   "pygments_lexer": "ipython3",
   "version": "3.11.5"
  }
 },
 "nbformat": 4,
 "nbformat_minor": 5
}
