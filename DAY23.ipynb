{
 "cells": [
  {
   "cell_type": "markdown",
   "id": "9004c2fb",
   "metadata": {},
   "source": [
    "# Recommendation System"
   ]
  },
  {
   "cell_type": "code",
   "execution_count": 2,
   "id": "b4a1b31c",
   "metadata": {},
   "outputs": [],
   "source": [
    "#an artificial intelligence or AI algorithm, usually associated with machine learning, that \n",
    "#uses Big Data to suggest or recommend additional products to consumers."
   ]
  },
  {
   "cell_type": "code",
   "execution_count": 16,
   "id": "cf94ed14",
   "metadata": {},
   "outputs": [],
   "source": [
    "#relevant items to users based on their preferences, behavior, or similarity to others"
   ]
  },
  {
   "cell_type": "code",
   "execution_count": 22,
   "id": "1d5b4446",
   "metadata": {},
   "outputs": [],
   "source": [
    "import pandas as pd\n",
    "import numpy as np"
   ]
  },
  {
   "cell_type": "code",
   "execution_count": 23,
   "id": "6bcface7",
   "metadata": {},
   "outputs": [],
   "source": [
    "movies_df=pd.read_csv(r\"C:\\Users\\yella\\Desktop\\Movie.csv\")"
   ]
  },
  {
   "cell_type": "code",
   "execution_count": 24,
   "id": "18201c55",
   "metadata": {},
   "outputs": [
    {
     "data": {
      "text/html": [
       "<div>\n",
       "<style scoped>\n",
       "    .dataframe tbody tr th:only-of-type {\n",
       "        vertical-align: middle;\n",
       "    }\n",
       "\n",
       "    .dataframe tbody tr th {\n",
       "        vertical-align: top;\n",
       "    }\n",
       "\n",
       "    .dataframe thead th {\n",
       "        text-align: right;\n",
       "    }\n",
       "</style>\n",
       "<table border=\"1\" class=\"dataframe\">\n",
       "  <thead>\n",
       "    <tr style=\"text-align: right;\">\n",
       "      <th></th>\n",
       "      <th>userId</th>\n",
       "      <th>movie</th>\n",
       "      <th>rating</th>\n",
       "    </tr>\n",
       "  </thead>\n",
       "  <tbody>\n",
       "    <tr>\n",
       "      <th>0</th>\n",
       "      <td>3</td>\n",
       "      <td>Toy Story (1995)</td>\n",
       "      <td>4.0</td>\n",
       "    </tr>\n",
       "    <tr>\n",
       "      <th>1</th>\n",
       "      <td>6</td>\n",
       "      <td>Toy Story (1995)</td>\n",
       "      <td>5.0</td>\n",
       "    </tr>\n",
       "    <tr>\n",
       "      <th>2</th>\n",
       "      <td>8</td>\n",
       "      <td>Toy Story (1995)</td>\n",
       "      <td>4.0</td>\n",
       "    </tr>\n",
       "    <tr>\n",
       "      <th>3</th>\n",
       "      <td>10</td>\n",
       "      <td>Toy Story (1995)</td>\n",
       "      <td>4.0</td>\n",
       "    </tr>\n",
       "    <tr>\n",
       "      <th>4</th>\n",
       "      <td>11</td>\n",
       "      <td>Toy Story (1995)</td>\n",
       "      <td>4.5</td>\n",
       "    </tr>\n",
       "    <tr>\n",
       "      <th>...</th>\n",
       "      <td>...</td>\n",
       "      <td>...</td>\n",
       "      <td>...</td>\n",
       "    </tr>\n",
       "    <tr>\n",
       "      <th>8987</th>\n",
       "      <td>7087</td>\n",
       "      <td>GoldenEye (1995)</td>\n",
       "      <td>3.0</td>\n",
       "    </tr>\n",
       "    <tr>\n",
       "      <th>8988</th>\n",
       "      <td>7088</td>\n",
       "      <td>GoldenEye (1995)</td>\n",
       "      <td>1.0</td>\n",
       "    </tr>\n",
       "    <tr>\n",
       "      <th>8989</th>\n",
       "      <td>7105</td>\n",
       "      <td>GoldenEye (1995)</td>\n",
       "      <td>2.0</td>\n",
       "    </tr>\n",
       "    <tr>\n",
       "      <th>8990</th>\n",
       "      <td>7113</td>\n",
       "      <td>GoldenEye (1995)</td>\n",
       "      <td>3.0</td>\n",
       "    </tr>\n",
       "    <tr>\n",
       "      <th>8991</th>\n",
       "      <td>7117</td>\n",
       "      <td>GoldenEye (1995)</td>\n",
       "      <td>3.0</td>\n",
       "    </tr>\n",
       "  </tbody>\n",
       "</table>\n",
       "<p>8992 rows × 3 columns</p>\n",
       "</div>"
      ],
      "text/plain": [
       "      userId             movie  rating\n",
       "0          3  Toy Story (1995)     4.0\n",
       "1          6  Toy Story (1995)     5.0\n",
       "2          8  Toy Story (1995)     4.0\n",
       "3         10  Toy Story (1995)     4.0\n",
       "4         11  Toy Story (1995)     4.5\n",
       "...      ...               ...     ...\n",
       "8987    7087  GoldenEye (1995)     3.0\n",
       "8988    7088  GoldenEye (1995)     1.0\n",
       "8989    7105  GoldenEye (1995)     2.0\n",
       "8990    7113  GoldenEye (1995)     3.0\n",
       "8991    7117  GoldenEye (1995)     3.0\n",
       "\n",
       "[8992 rows x 3 columns]"
      ]
     },
     "execution_count": 24,
     "metadata": {},
     "output_type": "execute_result"
    }
   ],
   "source": [
    "movies_df"
   ]
  },
  {
   "cell_type": "code",
   "execution_count": 25,
   "id": "052d8535",
   "metadata": {},
   "outputs": [
    {
     "data": {
      "text/plain": [
       "userId    0\n",
       "movie     0\n",
       "rating    0\n",
       "dtype: int64"
      ]
     },
     "execution_count": 25,
     "metadata": {},
     "output_type": "execute_result"
    }
   ],
   "source": [
    "movies_df.isnull().sum()"
   ]
  },
  {
   "cell_type": "code",
   "execution_count": 26,
   "id": "b8435f6c",
   "metadata": {},
   "outputs": [
    {
     "name": "stdout",
     "output_type": "stream",
     "text": [
      "<class 'pandas.core.frame.DataFrame'>\n",
      "RangeIndex: 8992 entries, 0 to 8991\n",
      "Data columns (total 3 columns):\n",
      " #   Column  Non-Null Count  Dtype  \n",
      "---  ------  --------------  -----  \n",
      " 0   userId  8992 non-null   int64  \n",
      " 1   movie   8992 non-null   object \n",
      " 2   rating  8992 non-null   float64\n",
      "dtypes: float64(1), int64(1), object(1)\n",
      "memory usage: 210.9+ KB\n"
     ]
    }
   ],
   "source": [
    "movies_df.info()"
   ]
  },
  {
   "cell_type": "code",
   "execution_count": 27,
   "id": "5937febd",
   "metadata": {},
   "outputs": [
    {
     "data": {
      "text/plain": [
       "(8992, 3)"
      ]
     },
     "execution_count": 27,
     "metadata": {},
     "output_type": "execute_result"
    }
   ],
   "source": [
    "movies_df.shape"
   ]
  },
  {
   "cell_type": "code",
   "execution_count": 28,
   "id": "1f9bf49e",
   "metadata": {},
   "outputs": [
    {
     "data": {
      "text/html": [
       "<div>\n",
       "<style scoped>\n",
       "    .dataframe tbody tr th:only-of-type {\n",
       "        vertical-align: middle;\n",
       "    }\n",
       "\n",
       "    .dataframe tbody tr th {\n",
       "        vertical-align: top;\n",
       "    }\n",
       "\n",
       "    .dataframe thead th {\n",
       "        text-align: right;\n",
       "    }\n",
       "</style>\n",
       "<table border=\"1\" class=\"dataframe\">\n",
       "  <thead>\n",
       "    <tr style=\"text-align: right;\">\n",
       "      <th></th>\n",
       "      <th>userId</th>\n",
       "      <th>movie</th>\n",
       "      <th>rating</th>\n",
       "    </tr>\n",
       "  </thead>\n",
       "  <tbody>\n",
       "    <tr>\n",
       "      <th>1</th>\n",
       "      <td>6</td>\n",
       "      <td>Toy Story (1995)</td>\n",
       "      <td>5.0</td>\n",
       "    </tr>\n",
       "    <tr>\n",
       "      <th>3725</th>\n",
       "      <td>6</td>\n",
       "      <td>Grumpier Old Men (1995)</td>\n",
       "      <td>3.0</td>\n",
       "    </tr>\n",
       "    <tr>\n",
       "      <th>6464</th>\n",
       "      <td>6</td>\n",
       "      <td>Sabrina (1995)</td>\n",
       "      <td>5.0</td>\n",
       "    </tr>\n",
       "  </tbody>\n",
       "</table>\n",
       "</div>"
      ],
      "text/plain": [
       "      userId                    movie  rating\n",
       "1          6         Toy Story (1995)     5.0\n",
       "3725       6  Grumpier Old Men (1995)     3.0\n",
       "6464       6           Sabrina (1995)     5.0"
      ]
     },
     "execution_count": 28,
     "metadata": {},
     "output_type": "execute_result"
    }
   ],
   "source": [
    "movies_df[movies_df['userId']==6]"
   ]
  },
  {
   "cell_type": "code",
   "execution_count": null,
   "id": "756896e9",
   "metadata": {},
   "outputs": [],
   "source": []
  },
  {
   "cell_type": "code",
   "execution_count": 30,
   "id": "6003ee8f",
   "metadata": {},
   "outputs": [
    {
     "data": {
      "text/plain": [
       "4081"
      ]
     },
     "execution_count": 30,
     "metadata": {},
     "output_type": "execute_result"
    }
   ],
   "source": [
    "len(movies_df['userId'].unique())"
   ]
  },
  {
   "cell_type": "code",
   "execution_count": 32,
   "id": "767a187f",
   "metadata": {},
   "outputs": [
    {
     "data": {
      "text/plain": [
       "10"
      ]
     },
     "execution_count": 32,
     "metadata": {},
     "output_type": "execute_result"
    }
   ],
   "source": [
    "len(movies_df['movie'].unique())"
   ]
  },
  {
   "cell_type": "code",
   "execution_count": 34,
   "id": "b52812c2",
   "metadata": {},
   "outputs": [
    {
     "data": {
      "text/plain": [
       "array(['Toy Story (1995)', 'Jumanji (1995)', 'Grumpier Old Men (1995)',\n",
       "       'Waiting to Exhale (1995)', 'Father of the Bride Part II (1995)',\n",
       "       'Heat (1995)', 'Sabrina (1995)', 'Tom and Huck (1995)',\n",
       "       'Sudden Death (1995)', 'GoldenEye (1995)'], dtype=object)"
      ]
     },
     "execution_count": 34,
     "metadata": {},
     "output_type": "execute_result"
    }
   ],
   "source": [
    "movies_df['movie'].unique()"
   ]
  },
  {
   "cell_type": "code",
   "execution_count": 36,
   "id": "5aad4154",
   "metadata": {},
   "outputs": [],
   "source": [
    "user_movies_df=movies_df.pivot(index='userId',\n",
    "                    columns='movie',\n",
    "                    values='rating').reset_index(drop=True)"
   ]
  },
  {
   "cell_type": "code",
   "execution_count": 37,
   "id": "2b9aa056",
   "metadata": {},
   "outputs": [
    {
     "data": {
      "text/html": [
       "<div>\n",
       "<style scoped>\n",
       "    .dataframe tbody tr th:only-of-type {\n",
       "        vertical-align: middle;\n",
       "    }\n",
       "\n",
       "    .dataframe tbody tr th {\n",
       "        vertical-align: top;\n",
       "    }\n",
       "\n",
       "    .dataframe thead th {\n",
       "        text-align: right;\n",
       "    }\n",
       "</style>\n",
       "<table border=\"1\" class=\"dataframe\">\n",
       "  <thead>\n",
       "    <tr style=\"text-align: right;\">\n",
       "      <th>movie</th>\n",
       "      <th>Father of the Bride Part II (1995)</th>\n",
       "      <th>GoldenEye (1995)</th>\n",
       "      <th>Grumpier Old Men (1995)</th>\n",
       "      <th>Heat (1995)</th>\n",
       "      <th>Jumanji (1995)</th>\n",
       "      <th>Sabrina (1995)</th>\n",
       "      <th>Sudden Death (1995)</th>\n",
       "      <th>Tom and Huck (1995)</th>\n",
       "      <th>Toy Story (1995)</th>\n",
       "      <th>Waiting to Exhale (1995)</th>\n",
       "    </tr>\n",
       "  </thead>\n",
       "  <tbody>\n",
       "    <tr>\n",
       "      <th>0</th>\n",
       "      <td>NaN</td>\n",
       "      <td>NaN</td>\n",
       "      <td>NaN</td>\n",
       "      <td>NaN</td>\n",
       "      <td>3.5</td>\n",
       "      <td>NaN</td>\n",
       "      <td>NaN</td>\n",
       "      <td>NaN</td>\n",
       "      <td>NaN</td>\n",
       "      <td>NaN</td>\n",
       "    </tr>\n",
       "    <tr>\n",
       "      <th>1</th>\n",
       "      <td>NaN</td>\n",
       "      <td>NaN</td>\n",
       "      <td>4.0</td>\n",
       "      <td>NaN</td>\n",
       "      <td>NaN</td>\n",
       "      <td>NaN</td>\n",
       "      <td>NaN</td>\n",
       "      <td>NaN</td>\n",
       "      <td>NaN</td>\n",
       "      <td>NaN</td>\n",
       "    </tr>\n",
       "    <tr>\n",
       "      <th>2</th>\n",
       "      <td>NaN</td>\n",
       "      <td>NaN</td>\n",
       "      <td>NaN</td>\n",
       "      <td>NaN</td>\n",
       "      <td>NaN</td>\n",
       "      <td>NaN</td>\n",
       "      <td>NaN</td>\n",
       "      <td>NaN</td>\n",
       "      <td>4.0</td>\n",
       "      <td>NaN</td>\n",
       "    </tr>\n",
       "    <tr>\n",
       "      <th>3</th>\n",
       "      <td>NaN</td>\n",
       "      <td>4.0</td>\n",
       "      <td>NaN</td>\n",
       "      <td>3.0</td>\n",
       "      <td>NaN</td>\n",
       "      <td>NaN</td>\n",
       "      <td>NaN</td>\n",
       "      <td>NaN</td>\n",
       "      <td>NaN</td>\n",
       "      <td>NaN</td>\n",
       "    </tr>\n",
       "    <tr>\n",
       "      <th>4</th>\n",
       "      <td>NaN</td>\n",
       "      <td>NaN</td>\n",
       "      <td>NaN</td>\n",
       "      <td>NaN</td>\n",
       "      <td>3.0</td>\n",
       "      <td>NaN</td>\n",
       "      <td>NaN</td>\n",
       "      <td>NaN</td>\n",
       "      <td>NaN</td>\n",
       "      <td>NaN</td>\n",
       "    </tr>\n",
       "    <tr>\n",
       "      <th>...</th>\n",
       "      <td>...</td>\n",
       "      <td>...</td>\n",
       "      <td>...</td>\n",
       "      <td>...</td>\n",
       "      <td>...</td>\n",
       "      <td>...</td>\n",
       "      <td>...</td>\n",
       "      <td>...</td>\n",
       "      <td>...</td>\n",
       "      <td>...</td>\n",
       "    </tr>\n",
       "    <tr>\n",
       "      <th>4076</th>\n",
       "      <td>4.0</td>\n",
       "      <td>NaN</td>\n",
       "      <td>NaN</td>\n",
       "      <td>NaN</td>\n",
       "      <td>NaN</td>\n",
       "      <td>NaN</td>\n",
       "      <td>NaN</td>\n",
       "      <td>NaN</td>\n",
       "      <td>NaN</td>\n",
       "      <td>NaN</td>\n",
       "    </tr>\n",
       "    <tr>\n",
       "      <th>4077</th>\n",
       "      <td>3.5</td>\n",
       "      <td>NaN</td>\n",
       "      <td>NaN</td>\n",
       "      <td>NaN</td>\n",
       "      <td>NaN</td>\n",
       "      <td>NaN</td>\n",
       "      <td>NaN</td>\n",
       "      <td>NaN</td>\n",
       "      <td>4.0</td>\n",
       "      <td>NaN</td>\n",
       "    </tr>\n",
       "    <tr>\n",
       "      <th>4078</th>\n",
       "      <td>NaN</td>\n",
       "      <td>3.0</td>\n",
       "      <td>4.0</td>\n",
       "      <td>5.0</td>\n",
       "      <td>NaN</td>\n",
       "      <td>3.0</td>\n",
       "      <td>1.0</td>\n",
       "      <td>NaN</td>\n",
       "      <td>4.0</td>\n",
       "      <td>NaN</td>\n",
       "    </tr>\n",
       "    <tr>\n",
       "      <th>4079</th>\n",
       "      <td>NaN</td>\n",
       "      <td>NaN</td>\n",
       "      <td>NaN</td>\n",
       "      <td>NaN</td>\n",
       "      <td>NaN</td>\n",
       "      <td>NaN</td>\n",
       "      <td>NaN</td>\n",
       "      <td>NaN</td>\n",
       "      <td>5.0</td>\n",
       "      <td>NaN</td>\n",
       "    </tr>\n",
       "    <tr>\n",
       "      <th>4080</th>\n",
       "      <td>NaN</td>\n",
       "      <td>NaN</td>\n",
       "      <td>NaN</td>\n",
       "      <td>NaN</td>\n",
       "      <td>4.0</td>\n",
       "      <td>4.0</td>\n",
       "      <td>NaN</td>\n",
       "      <td>NaN</td>\n",
       "      <td>4.5</td>\n",
       "      <td>NaN</td>\n",
       "    </tr>\n",
       "  </tbody>\n",
       "</table>\n",
       "<p>4081 rows × 10 columns</p>\n",
       "</div>"
      ],
      "text/plain": [
       "movie  Father of the Bride Part II (1995)  GoldenEye (1995)  \\\n",
       "0                                     NaN               NaN   \n",
       "1                                     NaN               NaN   \n",
       "2                                     NaN               NaN   \n",
       "3                                     NaN               4.0   \n",
       "4                                     NaN               NaN   \n",
       "...                                   ...               ...   \n",
       "4076                                  4.0               NaN   \n",
       "4077                                  3.5               NaN   \n",
       "4078                                  NaN               3.0   \n",
       "4079                                  NaN               NaN   \n",
       "4080                                  NaN               NaN   \n",
       "\n",
       "movie  Grumpier Old Men (1995)  Heat (1995)  Jumanji (1995)  Sabrina (1995)  \\\n",
       "0                          NaN          NaN             3.5             NaN   \n",
       "1                          4.0          NaN             NaN             NaN   \n",
       "2                          NaN          NaN             NaN             NaN   \n",
       "3                          NaN          3.0             NaN             NaN   \n",
       "4                          NaN          NaN             3.0             NaN   \n",
       "...                        ...          ...             ...             ...   \n",
       "4076                       NaN          NaN             NaN             NaN   \n",
       "4077                       NaN          NaN             NaN             NaN   \n",
       "4078                       4.0          5.0             NaN             3.0   \n",
       "4079                       NaN          NaN             NaN             NaN   \n",
       "4080                       NaN          NaN             4.0             4.0   \n",
       "\n",
       "movie  Sudden Death (1995)  Tom and Huck (1995)  Toy Story (1995)  \\\n",
       "0                      NaN                  NaN               NaN   \n",
       "1                      NaN                  NaN               NaN   \n",
       "2                      NaN                  NaN               4.0   \n",
       "3                      NaN                  NaN               NaN   \n",
       "4                      NaN                  NaN               NaN   \n",
       "...                    ...                  ...               ...   \n",
       "4076                   NaN                  NaN               NaN   \n",
       "4077                   NaN                  NaN               4.0   \n",
       "4078                   1.0                  NaN               4.0   \n",
       "4079                   NaN                  NaN               5.0   \n",
       "4080                   NaN                  NaN               4.5   \n",
       "\n",
       "movie  Waiting to Exhale (1995)  \n",
       "0                           NaN  \n",
       "1                           NaN  \n",
       "2                           NaN  \n",
       "3                           NaN  \n",
       "4                           NaN  \n",
       "...                         ...  \n",
       "4076                        NaN  \n",
       "4077                        NaN  \n",
       "4078                        NaN  \n",
       "4079                        NaN  \n",
       "4080                        NaN  \n",
       "\n",
       "[4081 rows x 10 columns]"
      ]
     },
     "execution_count": 37,
     "metadata": {},
     "output_type": "execute_result"
    }
   ],
   "source": [
    "user_movies_df"
   ]
  },
  {
   "cell_type": "code",
   "execution_count": null,
   "id": "f239772c",
   "metadata": {},
   "outputs": [],
   "source": [
    "user_movies_df.index=movies_df.userId.unique"
   ]
  }
 ],
 "metadata": {
  "kernelspec": {
   "display_name": "Python 3 (ipykernel)",
   "language": "python",
   "name": "python3"
  },
  "language_info": {
   "codemirror_mode": {
    "name": "ipython",
    "version": 3
   },
   "file_extension": ".py",
   "mimetype": "text/x-python",
   "name": "python",
   "nbconvert_exporter": "python",
   "pygments_lexer": "ipython3",
   "version": "3.11.5"
  }
 },
 "nbformat": 4,
 "nbformat_minor": 5
}
